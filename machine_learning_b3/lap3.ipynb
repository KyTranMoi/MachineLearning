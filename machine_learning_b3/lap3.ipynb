{
 "cells": [
  {
   "cell_type": "markdown",
   "metadata": {},
   "source": [
    "# Bài 1 :"
   ]
  },
  {
   "cell_type": "code",
   "execution_count": 1,
   "metadata": {},
   "outputs": [
    {
     "name": "stdout",
     "output_type": "stream",
     "text": [
      "Expected value (discrete): 2.9000000000000004\n",
      "Expected value (continuous): 0.0\n"
     ]
    }
   ],
   "source": [
    "import numpy as np\n",
    "from scipy import integrate\n",
    "\n",
    "def expected_value_discrete(X, f):\n",
    "    \"\"\"\n",
    "    Tính kỳ vọng cho biến ngẫu nhiên rời rạc.\n",
    "\n",
    "    Parameters:\n",
    "    X (list): Các giá trị của biến ngẫu nhiên.\n",
    "    f (list): Xác suất tương ứng với mỗi giá trị của biến ngẫu nhiên.\n",
    "\n",
    "    Returns:\n",
    "    float: Kỳ vọng của biến ngẫu nhiên.\n",
    "    \"\"\"\n",
    "    mu = sum(x * p for x, p in zip(X, f))\n",
    "    return mu\n",
    "\n",
    "def expected_value_continuous(x, f):\n",
    "    \"\"\"\n",
    "    Tính kỳ vọng cho biến ngẫu nhiên liên tục.\n",
    "\n",
    "    Parameters:\n",
    "    x (function): Hàm mật độ xác suất của biến ngẫu nhiên liên tục.\n",
    "    f (function): Hàm giá trị của biến ngẫu nhiên liên tục.\n",
    "\n",
    "    Returns:\n",
    "    float: Kỳ vọng của biến ngẫu nhiên.\n",
    "    \"\"\"\n",
    "    mu = integrate.quad(lambda x: x * f(x), -np.inf, np.inf)[0]\n",
    "    return mu\n",
    "\n",
    "X_discrete = [1, 2, 3, 4]\n",
    "f_discrete = [0.1, 0.2, 0.4, 0.3]\n",
    "result_discrete = expected_value_discrete(X_discrete, f_discrete)\n",
    "print(f\"Expected value (discrete): {result_discrete}\")\n",
    "\n",
    "def pdf_continuous(x):\n",
    "    return 1/np.sqrt(2*np.pi) * np.exp(-x**2/2)\n",
    "\n",
    "def value_continuous(x):\n",
    "    return x\n",
    "\n",
    "result_continuous = expected_value_continuous(value_continuous, pdf_continuous)\n",
    "print(f\"Expected value (continuous): {result_continuous}\")\n"
   ]
  },
  {
   "cell_type": "markdown",
   "metadata": {},
   "source": [
    "# Bài 2:"
   ]
  },
  {
   "cell_type": "code",
   "execution_count": 2,
   "metadata": {},
   "outputs": [
    {
     "name": "stdout",
     "output_type": "stream",
     "text": [
      "Variance (discrete): 0.8900000000000001\n",
      "Variance (continuous): 1.000000000000001\n"
     ]
    }
   ],
   "source": [
    "import numpy as np\n",
    "from scipy import integrate\n",
    "\n",
    "def variance_discrete(X, f):\n",
    "    \"\"\"\n",
    "    Tính phương sai cho biến ngẫu nhiên rời rạc.\n",
    "\n",
    "    Parameters:\n",
    "    X (list): Các giá trị của biến ngẫu nhiên.\n",
    "    f (list): Xác suất tương ứng với mỗi giá trị của biến ngẫu nhiên.\n",
    "\n",
    "    Returns:\n",
    "    float: Phương sai của biến ngẫu nhiên.\n",
    "    \"\"\"\n",
    "    mu = sum(x * p for x, p in zip(X, f))\n",
    "    variance = sum(p * (x - mu)**2 for x, p in zip(X, f))\n",
    "    return variance\n",
    "\n",
    "def variance_continuous(x, f):\n",
    "    \"\"\"\n",
    "    Tính phương sai cho biến ngẫu nhiên liên tục.\n",
    "\n",
    "    Parameters:\n",
    "    x (function): Hàm mật độ xác suất của biến ngẫu nhiên liên tục.\n",
    "    f (function): Hàm giá trị của biến ngẫu nhiên liên tục.\n",
    "\n",
    "    Returns:\n",
    "    float: Phương sai của biến ngẫu nhiên.\n",
    "    \"\"\"\n",
    "    mu = integrate.quad(lambda x: x * f(x), -np.inf, np.inf)[0]\n",
    "    variance = integrate.quad(lambda x: (x - mu)**2 * f(x), -np.inf, np.inf)[0]\n",
    "    return variance\n",
    "\n",
    "X_discrete = [1, 2, 3, 4]\n",
    "f_discrete = [0.1, 0.2, 0.4, 0.3]\n",
    "result_variance_discrete = variance_discrete(X_discrete, f_discrete)\n",
    "print(f\"Variance (discrete): {result_variance_discrete}\")\n",
    "\n",
    "def pdf_continuous(x):\n",
    "    return 1/np.sqrt(2*np.pi) * np.exp(-x**2/2)\n",
    "\n",
    "result_variance_continuous = variance_continuous(pdf_continuous, pdf_continuous)\n",
    "print(f\"Variance (continuous): {result_variance_continuous}\")\n"
   ]
  },
  {
   "cell_type": "markdown",
   "metadata": {},
   "source": [
    "# Bài 3:"
   ]
  },
  {
   "cell_type": "code",
   "execution_count": 3,
   "metadata": {},
   "outputs": [
    {
     "name": "stdout",
     "output_type": "stream",
     "text": [
      "Standard Deviation (discrete): 0.9433981132056605\n"
     ]
    }
   ],
   "source": [
    "import numpy as np\n",
    "from scipy import integrate\n",
    "\n",
    "def standard_deviation_discrete(X, f):\n",
    "    \"\"\"\n",
    "    Tính độ lệch chuẩn cho biến ngẫu nhiên rời rạc.\n",
    "\n",
    "    Parameters:\n",
    "    X (list): Các giá trị của biến ngẫu nhiên.\n",
    "    f (list): Xác suất tương ứng với mỗi giá trị của biến ngẫu nhiên.\n",
    "\n",
    "    Returns:\n",
    "    float: Độ lệch chuẩn của biến ngẫu nhiên.\n",
    "    \"\"\"\n",
    "    mu = sum(x * p for x, p in zip(X, f))\n",
    "    variance = sum(p * (x - mu)**2 for x, p in zip(X, f))\n",
    "    std_deviation = np.sqrt(variance)\n",
    "    return std_deviation\n",
    "\n",
    "X_discrete = [1, 2, 3, 4]\n",
    "f_discrete = [0.1, 0.2, 0.4, 0.3]\n",
    "result_std_dev_discrete = standard_deviation_discrete(X_discrete, f_discrete)\n",
    "print(f\"Standard Deviation (discrete): {result_std_dev_discrete}\")\n"
   ]
  },
  {
   "cell_type": "markdown",
   "metadata": {},
   "source": [
    "# Bài 4"
   ]
  },
  {
   "cell_type": "code",
   "execution_count": 4,
   "metadata": {},
   "outputs": [
    {
     "name": "stdout",
     "output_type": "stream",
     "text": [
      "a. Kỳ vọng: 1.5\n",
      "   Phương sai: 1.25\n",
      "   Độ lệch chuẩn: 1.118033988749895\n",
      "\n",
      "b. Kỳ vọng: 4500.0\n",
      "   Phương sai: 9072067500.000002\n",
      "   Độ lệch chuẩn: 95247.4015393596\n",
      "\n",
      "c. Kỳ vọng: 1.5\n",
      "   Phương sai: 1.25\n",
      "   Độ lệch chuẩn: 1.118033988749895\n",
      "\n",
      "d. Kỳ vọng: 14.959503059051098\n",
      "   Phương sai: 24.26936341118246\n",
      "   Độ lệch chuẩn: 4.926394565113767\n"
     ]
    }
   ],
   "source": [
    "import numpy as np\n",
    "from scipy.stats import binom\n",
    "from scipy.integrate import quad\n",
    "\n",
    "# Hàm lập bảng phân phối xác suất\n",
    "def probability_distribution():\n",
    "    outcomes = np.array([0, 1, 2, 3])\n",
    "    probabilities = binom.pmf(outcomes, 3, 0.3)\n",
    "    return outcomes, probabilities\n",
    "\n",
    "# Hàm tính kỳ vọng\n",
    "def calculate_expectation(data):\n",
    "    return np.mean(data)\n",
    "\n",
    "# Hàm tính phương sai\n",
    "def calculate_variance(data):\n",
    "    return np.var(data)\n",
    "\n",
    "# Hàm tính độ lệch chuẩn\n",
    "def calculate_standard_deviation(data):\n",
    "    return np.std(data)\n",
    "\n",
    "# Hàm hàm mật độ xác suất cho biến ngẫu nhiên liên tục\n",
    "def f(x):\n",
    "    if 0 <= x <= 30:\n",
    "        return k * (30 - x)\n",
    "    else:\n",
    "        return 0\n",
    "\n",
    "# Hàm tính kỳ vọng cho biến ngẫu nhiên liên tục\n",
    "def continuous_expectation():\n",
    "    return quad(lambda x: x * f(x), 0, 30)[0]\n",
    "\n",
    "# Hàm tính phương sai cho biến ngẫu nhiên liên tục\n",
    "def continuous_variance():\n",
    "    return quad(lambda x: (x - continuous_expectation()) ** 2 * f(x), 0, 30)[0]\n",
    "\n",
    "# Hàm tính độ lệch chuẩn cho biến ngẫu nhiên liên tục\n",
    "def continuous_standard_deviation():\n",
    "    return np.sqrt(continuous_variance())\n",
    "\n",
    "# a. Lập bảng phân phối xác suất và ghi vào file data.txt\n",
    "outcomes, probabilities = probability_distribution()\n",
    "np.savetxt('data.txt', np.column_stack((outcomes, probabilities)), fmt='%d %.5f')\n",
    "\n",
    "# Đọc dữ liệu từ file data.txt\n",
    "data = np.loadtxt('data.txt')\n",
    "\n",
    "# a. Áp dụng các hàm cho dữ liệu ở câu a\n",
    "expectation_a = calculate_expectation(data[:, 0])\n",
    "variance_a = calculate_variance(data[:, 0])\n",
    "std_deviation_a = calculate_standard_deviation(data[:, 0])\n",
    "\n",
    "# b. Áp dụng các hàm cho dữ liệu ở câu b\n",
    "k = 1  # Thay đổi giá trị của k tùy thuộc vào hàm mật độ xác suất f(x)\n",
    "expectation_b = continuous_expectation()\n",
    "variance_b = continuous_variance()\n",
    "std_deviation_b = continuous_standard_deviation()\n",
    "\n",
    "# c. Áp dụng thư viện cho dữ liệu ở câu c\n",
    "expectation_c = np.mean(data[:, 0])\n",
    "variance_c = np.var(data[:, 0])\n",
    "std_deviation_c = np.std(data[:, 0])\n",
    "\n",
    "# d. (Không cung cấp thông tin đầy đủ về biến ngẫu nhiên liên tục, không thể sử dụng thư viện trực tiếp)\n",
    "\n",
    "# Hiển thị kết quả\n",
    "print(\"a. Kỳ vọng:\", expectation_a)\n",
    "print(\"   Phương sai:\", variance_a)\n",
    "print(\"   Độ lệch chuẩn:\", std_deviation_a)\n",
    "\n",
    "print(\"\\nb. Kỳ vọng:\", expectation_b)\n",
    "print(\"   Phương sai:\", variance_b)\n",
    "print(\"   Độ lệch chuẩn:\", std_deviation_b)\n",
    "\n",
    "print(\"\\nc. Kỳ vọng:\", expectation_c)\n",
    "print(\"   Phương sai:\", variance_c)\n",
    "print(\"   Độ lệch chuẩn:\", std_deviation_c)\n",
    "from scipy.stats import norm\n",
    "\n",
    "# Hàm mật độ xác suất cho biến ngẫu nhiên liên tục\n",
    "def f(x):\n",
    "    return norm.pdf(x, loc=15, scale=5)  # Ví dụ với giả định hàm mật độ xác suất là phân phối Gaussian\n",
    "\n",
    "# Hàm tính kỳ vọng cho biến ngẫu nhiên liên tục\n",
    "expectation_d = quad(lambda x: x * f(x), 0, 30)[0]\n",
    "\n",
    "# Hàm tính phương sai cho biến ngẫu nhiên liên tục\n",
    "variance_d = quad(lambda x: (x - expectation_d) ** 2 * f(x), 0, 30)[0]\n",
    "\n",
    "# Hàm tính độ lệch chuẩn cho biến ngẫu nhiên liên tục\n",
    "std_deviation_d = np.sqrt(variance_d)\n",
    "\n",
    "# Hiển thị kết quả\n",
    "print(\"\\nd. Kỳ vọng:\", expectation_d)\n",
    "print(\"   Phương sai:\", variance_d)\n",
    "print(\"   Độ lệch chuẩn:\", std_deviation_d)\n"
   ]
  }
 ],
 "metadata": {
  "kernelspec": {
   "display_name": "Python 3",
   "language": "python",
   "name": "python3"
  },
  "language_info": {
   "codemirror_mode": {
    "name": "ipython",
    "version": 3
   },
   "file_extension": ".py",
   "mimetype": "text/x-python",
   "name": "python",
   "nbconvert_exporter": "python",
   "pygments_lexer": "ipython3",
   "version": "3.10.11"
  }
 },
 "nbformat": 4,
 "nbformat_minor": 2
}
