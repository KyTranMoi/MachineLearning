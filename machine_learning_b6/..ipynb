{
 "cells": [
  {
   "cell_type": "markdown",
   "metadata": {},
   "source": [
    "# Loaddata"
   ]
  },
  {
   "cell_type": "code",
   "execution_count": 4,
   "metadata": {},
   "outputs": [
    {
     "data": {
      "text/plain": [
       "(     outlook temperature humidity  windy\n",
       " 0   overcast         hot     high  False\n",
       " 1   overcast        cool   normal   True\n",
       " 2   overcast        mild     high   True\n",
       " 3   overcast         hot   normal  False\n",
       " 4      rainy        mild     high  False\n",
       " 5      rainy        cool   normal  False\n",
       " 6      rainy        cool   normal   True\n",
       " 7      rainy        mild   normal  False\n",
       " 8      rainy        mild     high   True\n",
       " 9      sunny         hot     high  False\n",
       " 10     sunny         hot     high   True\n",
       " 11     sunny        mild     high  False\n",
       " 12     sunny        cool   normal  False\n",
       " 13     sunny        mild   normal   True,\n",
       " array([1, 1, 1, 1, 1, 1, 0, 1, 0, 0, 0, 0, 1, 1]))"
      ]
     },
     "execution_count": 4,
     "metadata": {},
     "output_type": "execute_result"
    }
   ],
   "source": [
    "import pandas as pd\n",
    "import numpy as np\n",
    "from sklearn.preprocessing import LabelEncoder\n",
    "\n",
    "data = pd.read_csv('weather.csv')\n",
    "\n",
    "X = data.drop('play', axis=1)\n",
    "y = data['play']\n",
    "y = LabelEncoder().fit_transform(y)\n",
    "\n",
    "X,y"
   ]
  },
  {
   "cell_type": "markdown",
   "metadata": {},
   "source": [
    "# init func entropy informatine_gain"
   ]
  },
  {
   "cell_type": "code",
   "execution_count": 5,
   "metadata": {},
   "outputs": [],
   "source": [
    "def entropy(y):\n",
    "    \"\"\"\n",
    "    Tính entropy của một tập dữ liệu nhãn y.\n",
    "    \"\"\"\n",
    "    classes = np.unique(y)\n",
    "    entropy = 0\n",
    "    for cls in classes:\n",
    "        p_cls = np.sum(y == cls) / len(y)\n",
    "        entropy -= p_cls * np.log2(p_cls)\n",
    "    return entropy\n",
    "\n",
    "def information_gain(X, y, feature):\n",
    "    \"\"\"\n",
    "    Tính lợi ích thông tin khi chia tập dữ liệu dựa trên một đặc trưng cụ thể.\n",
    "    \"\"\"\n",
    "    # Tính entropy của tập dữ liệu gốc\n",
    "    original_entropy = entropy(y)\n",
    "    \n",
    "    # Tính entropy sau khi chia tập dữ liệu dựa trên đặc trưng\n",
    "    values = np.unique(X[feature])\n",
    "    new_entropy = 0\n",
    "    for value in values:\n",
    "        subset_y = y[X[feature] == value]\n",
    "        weight = len(subset_y) / len(y)\n",
    "        new_entropy += weight * entropy(subset_y)\n",
    "    \n",
    "    # Tính lợi ích thông tin\n",
    "    information_gain = original_entropy - new_entropy\n",
    "    return information_gain\n"
   ]
  },
  {
   "cell_type": "markdown",
   "metadata": {},
   "source": [
    "# Buil tree"
   ]
  },
  {
   "cell_type": "code",
   "execution_count": 6,
   "metadata": {},
   "outputs": [],
   "source": [
    "class Node:\n",
    "    def __init__(self, predicted_class):\n",
    "        self.predicted_class = predicted_class\n",
    "        self.feature = 0\n",
    "        self.threshold = 0\n",
    "        self.left = None\n",
    "        self.right = None\n",
    "\n",
    "def build_tree(X, y, depth=0, max_depth=None):\n",
    "    \"\"\"\n",
    "    Xây dựng cây quyết định dựa trên dữ liệu huấn luyện và nhãn tương ứng.\n",
    "    \"\"\"\n",
    "    # Kiểm tra điều kiện dừng\n",
    "    if depth == max_depth:\n",
    "        return Node(predicted_class=np.argmax(np.bincount(y)))\n",
    "    \n",
    "    if len(np.unique(y)) == 1:\n",
    "        return Node(predicted_class=y[0])\n",
    "    \n",
    "    # Chọn đặc trưng và ngưỡng tốt nhất để chia\n",
    "    best_feature = None\n",
    "    best_gain = -1\n",
    "    for feature in X.columns:\n",
    "        gain = information_gain(X, y, feature)\n",
    "        if gain > best_gain:\n",
    "            best_gain = gain\n",
    "            best_feature = feature\n",
    "    \n",
    "    # Tạo node và chia tập dữ liệu\n",
    "    node = Node(predicted_class=np.argmax(np.bincount(y)))\n",
    "    node.feature = best_feature\n",
    "    \n",
    "    unique_values = np.unique(X[best_feature])\n",
    "    if len(unique_values) == 1:  # Không thể chia tiếp\n",
    "        return node\n",
    "    \n",
    "    # Tiếp tục chia dữ liệu cho các nhánh con\n",
    "    if isinstance(unique_values[0], str):  # Đối với dữ liệu rời rạc\n",
    "        left_idxs = X[best_feature] == unique_values[0]\n",
    "        right_idxs = X[best_feature] != unique_values[0]\n",
    "    else:  # Đối với dữ liệu liên tục\n",
    "        threshold = np.median(unique_values)\n",
    "        left_idxs = X[best_feature] <= threshold\n",
    "        right_idxs = X[best_feature] > threshold\n",
    "    \n",
    "    node.threshold = threshold if not isinstance(unique_values[0], str) else None\n",
    "    node.left = build_tree(X[left_idxs], y[left_idxs], depth + 1, max_depth)\n",
    "    node.right = build_tree(X[right_idxs], y[right_idxs], depth + 1, max_depth)\n",
    "    \n",
    "    return node\n"
   ]
  },
  {
   "cell_type": "code",
   "execution_count": 9,
   "metadata": {},
   "outputs": [
    {
     "data": {
      "text/plain": [
       "(1, 'outlook', None, 1, 0)"
      ]
     },
     "execution_count": 9,
     "metadata": {},
     "output_type": "execute_result"
    }
   ],
   "source": [
    "root = build_tree(X, y)\n",
    "root.predicted_class, root.feature, root.threshold, root.left.predicted_class, root.right.predicted_class"
   ]
  },
  {
   "cell_type": "code",
   "execution_count": null,
   "metadata": {},
   "outputs": [],
   "source": []
  },
  {
   "cell_type": "code",
   "execution_count": null,
   "metadata": {},
   "outputs": [],
   "source": []
  }
 ],
 "metadata": {
  "kernelspec": {
   "display_name": "Python 3",
   "language": "python",
   "name": "python3"
  },
  "language_info": {
   "codemirror_mode": {
    "name": "ipython",
    "version": 3
   },
   "file_extension": ".py",
   "mimetype": "text/x-python",
   "name": "python",
   "nbconvert_exporter": "python",
   "pygments_lexer": "ipython3",
   "version": "3.10.11"
  }
 },
 "nbformat": 4,
 "nbformat_minor": 2
}
