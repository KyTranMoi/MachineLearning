{
 "cells": [
  {
   "cell_type": "markdown",
   "metadata": {},
   "source": [
    "# Bài 1: Cài đặt giải thuật Viterbi với framcode:  "
   ]
  },
  {
   "cell_type": "code",
   "execution_count": 4,
   "metadata": {},
   "outputs": [
    {
     "name": "stdout",
     "output_type": "stream",
     "text": [
      "The most likely state sequence is: ['Healthy', 'Healthy', 'Fever']\n"
     ]
    }
   ],
   "source": [
    "def viterbi(obs, states, start_p, trans_p, emit_p):\n",
    "    T = len(obs)\n",
    "    # N = len(states)\n",
    "    T1 = [{} for _ in range(T)]\n",
    "    T2 = [{} for _ in range(T)]\n",
    "\n",
    "    # Initialization\n",
    "    for state in states:\n",
    "        T1[0][state] = start_p[state] * emit_p[state][obs[0]]\n",
    "        T2[0][state] = None\n",
    "\n",
    "    # Forward algorithm\n",
    "    for t in range(1, T):\n",
    "        for curr_state in states:\n",
    "            max_prob = max(T1[t - 1][prev_state] * trans_p[prev_state][curr_state] * emit_p[curr_state][obs[t]] for prev_state in states)\n",
    "            T1[t][curr_state] = max_prob\n",
    "            T2[t][curr_state] = max((T1[t - 1][prev_state] * trans_p[prev_state][curr_state], prev_state) for prev_state in states)[1]\n",
    "\n",
    "    # Backtracking\n",
    "    best_path = []\n",
    "    max_prob = max(T1[T - 1].values())\n",
    "    previous_state = None\n",
    "\n",
    "    for state, prob in T1[T - 1].items():\n",
    "        if prob == max_prob:\n",
    "            best_path.append(state)\n",
    "            previous_state = state\n",
    "            break\n",
    "\n",
    "    for t in range(T - 2, -1, -1):\n",
    "        best_path.insert(0, T2[t + 1][previous_state])\n",
    "        previous_state = T2[t + 1][previous_state]\n",
    "\n",
    "    return best_path\n",
    "\n",
    "obs = ('normal', 'cold', 'dizzy')\n",
    "states = ('Healthy', 'Fever')\n",
    "start_p = {'Healthy': 0.6, 'Fever': 0.4}\n",
    "trans_p = {\n",
    "    'Healthy': {'Healthy': 0.7, 'Fever': 0.3},\n",
    "    'Fever': {'Healthy': 0.4, 'Fever': 0.6}\n",
    "}\n",
    "emit_p = {\n",
    "    'Healthy': {'normal': 0.5, 'cold': 0.4, 'dizzy': 0.1},\n",
    "    'Fever': {'normal': 0.1, 'cold': 0.3, 'dizzy': 0.6}\n",
    "}\n",
    "\n",
    "result = viterbi(obs, states, start_p, trans_p, emit_p)\n",
    "print(\"The most likely state sequence is:\", result)\n"
   ]
  },
  {
   "cell_type": "markdown",
   "metadata": {},
   "source": [
    "# Bài 2: Cài đặt giải thuật BFR và ứng dụng giải thuật này cho 1 bộ dữ liệu  \n"
   ]
  },
  {
   "cell_type": "code",
   "execution_count": 5,
   "metadata": {},
   "outputs": [
    {
     "name": "stdout",
     "output_type": "stream",
     "text": [
      "Final clusters:\n",
      "Cluster 1: 7 points\n",
      "Cluster 2: 6 points\n",
      "Cluster 3: 87 points\n"
     ]
    }
   ],
   "source": [
    "import numpy as np\n",
    "\n",
    "class BFR:\n",
    "    def __init__(self, data, k, threshold):\n",
    "        self.data = data\n",
    "        self.k = k\n",
    "        self.threshold = threshold\n",
    "        self.clusters = []\n",
    "\n",
    "    def run(self):\n",
    "        self.clusters.append(self.data)\n",
    "        while len(self.clusters) < self.k:\n",
    "            largest_cluster = max(self.clusters, key=len)\n",
    "            if len(largest_cluster) <= self.threshold:\n",
    "                break\n",
    "            new_clusters = self.split_cluster(largest_cluster)\n",
    "            self.clusters.remove(largest_cluster)\n",
    "            self.clusters.extend(new_clusters)\n",
    "\n",
    "    def split_cluster(self, cluster):\n",
    "        centroid = np.mean(cluster, axis=0)\n",
    "        distances = np.linalg.norm(cluster - centroid, axis=1)\n",
    "        furthest_point_idx = np.argmax(distances)\n",
    "        furthest_point = cluster[furthest_point_idx]\n",
    "        split_point = np.random.uniform(furthest_point - centroid, furthest_point + centroid)\n",
    "        cluster1 = []\n",
    "        cluster2 = []\n",
    "        for point in cluster:\n",
    "            if np.linalg.norm(point - split_point) < np.linalg.norm(point - centroid):\n",
    "                cluster1.append(point)\n",
    "            else:\n",
    "                cluster2.append(point)\n",
    "        return cluster1, cluster2\n",
    "\n",
    "# Example usage:\n",
    "data = np.random.randn(100, 2)  # Sample data with 100 points in 2 dimensions\n",
    "bfr = BFR(data, k=3, threshold=10)\n",
    "bfr.run()\n",
    "print(\"Final clusters:\")\n",
    "for i, cluster in enumerate(bfr.clusters):\n",
    "    print(f\"Cluster {i+1}: {len(cluster)} points\")\n"
   ]
  },
  {
   "cell_type": "markdown",
   "metadata": {},
   "source": [
    "# Bài 3: Cài đặt giải thuật CURE và ứng dụng giải thuật này cho 1 bộ dữ liệu  "
   ]
  },
  {
   "cell_type": "code",
   "execution_count": 6,
   "metadata": {},
   "outputs": [
    {
     "name": "stdout",
     "output_type": "stream",
     "text": [
      "Cluster 1: [array([0.65632959, 0.13818295]), array([0.56660145, 0.26538949]), array([0.52324805, 0.09394051]), array([0.58651293, 0.02010755]), array([0.52103661, 0.05433799]), array([0.57722859, 0.23789282])]\n",
      "Cluster 2: [array([0.07103606, 0.0871293 ]), array([0.52184832, 0.41466194]), array([0.21038256, 0.1289263 ]), array([0.31542835, 0.36371077]), array([0.20887676, 0.16130952]), array([0.46631077, 0.24442559]), array([0.15896958, 0.11037514]), array([0.19658236, 0.36872517]), array([0.28280696, 0.12019656]), array([0.2961402 , 0.11872772]), array([0.31798318, 0.41426299]), array([0.28940609, 0.18319136]), array([0.0191932 , 0.30157482]), array([0.13547406, 0.29828233]), array([0.4071833, 0.069167 ]), array([0.01171408, 0.35997806]), array([0.19999652, 0.01852179]), array([0.39822106, 0.20984375]), array([0.22741463, 0.25435648])]\n",
      "Cluster 3: [array([0.5488135 , 0.71518937]), array([0.60276338, 0.54488318]), array([0.4236548 , 0.64589411]), array([0.0202184 , 0.83261985]), array([0.46147936, 0.78052918]), array([0.11827443, 0.63992102]), array([0.14335329, 0.94466892]), array([0.26455561, 0.77423369]), array([0.45615033, 0.56843395]), array([0.0187898, 0.6176355]), array([0.61209572, 0.616934  ]), array([0.3595079 , 0.43703195]), array([0.66676672, 0.67063787]), array([0.0641475 , 0.69247212]), array([0.31856895, 0.66741038]), array([0.13179786, 0.7163272 ]), array([0.24875314, 0.57615733]), array([0.59204193, 0.57225191]), array([0.42385505, 0.60639321]), array([0.56996491, 0.59087276]), array([0.57432525, 0.65320082]), array([0.10022689, 0.91948261]), array([0.1494483 , 0.86812606]), array([0.16249293, 0.61555956]), array([0.12381998, 0.84800823]), array([0.16469416, 0.6214784 ]), array([0.5356328 , 0.58990998]), array([0.18619301, 0.94437239]), array([0.05802916, 0.43441663])]\n",
      "Cluster 4: [array([0.96366276, 0.38344152]), array([0.79172504, 0.52889492]), array([0.6976312 , 0.06022547]), array([0.57019677, 0.43860151]), array([0.98837384, 0.10204481]), array([0.65310833, 0.2532916 ]), array([0.82099323, 0.09710128]), array([0.83794491, 0.09609841]), array([0.97645947, 0.4686512 ]), array([0.97676109, 0.60484552]), array([0.73926358, 0.03918779]), array([0.82894003, 0.00469548]), array([0.67781654, 0.27000797]), array([0.69947928, 0.29743695]), array([0.81379782, 0.39650574]), array([0.8811032 , 0.58127287]), array([0.72525428, 0.50132438]), array([0.95608363, 0.6439902 ]), array([0.66017354, 0.29007761]), array([0.61801543, 0.4287687 ]), array([0.65210327, 0.43141844]), array([0.8965466 , 0.36756187]), array([0.80731896, 0.56910074]), array([0.69742877, 0.45354268]), array([0.72999056, 0.17162968]), array([0.7936977 , 0.22392469]), array([0.7044144 , 0.03183893]), array([0.934214  , 0.61396596]), array([0.73012203, 0.311945  ]), array([0.7395508 , 0.49045881])]\n",
      "Cluster 5: [array([0.43758721, 0.891773  ]), array([0.56804456, 0.92559664]), array([0.77815675, 0.87001215]), array([0.97861834, 0.79915856]), array([0.94374808, 0.6818203 ]), array([0.5759465, 0.9292962]), array([0.73519402, 0.96218855]), array([0.22308163, 0.95274901]), array([0.44712538, 0.84640867]), array([0.88173536, 0.69253159]), array([0.43586493, 0.89192336]), array([0.80619399, 0.70388858]), array([0.7142413 , 0.99884701]), array([0.7220556 , 0.86638233]), array([0.97552151, 0.85580334]), array([0.34535168, 0.92808129])]\n"
     ]
    }
   ],
   "source": [
    "import numpy as np\n",
    "\n",
    "class CURE:\n",
    "    def __init__(self, k, num_representatives):\n",
    "        self.k = k\n",
    "        self.num_representatives = num_representatives\n",
    "\n",
    "    def fit_predict(self, X):\n",
    "        # Chọn các điểm đại diện ban đầu\n",
    "        representatives = self.select_representatives(X)\n",
    "\n",
    "        # Phân cụm dữ liệu ban đầu\n",
    "        clusters = self.cluster(X, representatives)\n",
    "\n",
    "        # Tối ưu hóa các cụm\n",
    "        self.optimize_clusters(clusters)\n",
    "\n",
    "        return clusters\n",
    "\n",
    "    def select_representatives(self, X):\n",
    "        # Lựa chọn ngẫu nhiên các điểm làm đại diện ban đầu\n",
    "        indices = np.random.choice(X.shape[0], self.num_representatives, replace=False)\n",
    "        return X[indices]\n",
    "\n",
    "    def cluster(self, X, representatives):\n",
    "        clusters = [[] for _ in range(self.num_representatives)]\n",
    "\n",
    "        # Phân mỗi điểm dữ liệu vào cụm gần nhất\n",
    "        for point in X:\n",
    "            min_dist = float('inf')\n",
    "            min_rep_index = None\n",
    "            for i, rep in enumerate(representatives):\n",
    "                dist = np.linalg.norm(point - rep)\n",
    "                if dist < min_dist:\n",
    "                    min_dist = dist\n",
    "                    min_rep_index = i\n",
    "            clusters[min_rep_index].append(point)\n",
    "\n",
    "        return clusters\n",
    "\n",
    "    def optimize_clusters(self, clusters):\n",
    "        # Phương pháp tối ưu hóa cụm ở đây\n",
    "        pass\n",
    "\n",
    "# Sử dụng giải thuật CURE trên một tập dữ liệu giả định\n",
    "if __name__ == \"__main__\":\n",
    "    # Tạo dữ liệu giả định\n",
    "    np.random.seed(0)\n",
    "    X = np.random.rand(100, 2)  # 100 điểm dữ liệu 2 chiều\n",
    "\n",
    "    # Sử dụng giải thuật CURE\n",
    "    k = 3  # số cụm cần phân\n",
    "    num_representatives = 5  # số điểm đại diện ban đầu\n",
    "    cure = CURE(k, num_representatives)\n",
    "    clusters = cure.fit_predict(X)\n",
    "\n",
    "    # In ra các cụm\n",
    "    for i, cluster in enumerate(clusters):\n",
    "        print(f\"Cluster {i + 1}: {cluster}\")\n"
   ]
  },
  {
   "cell_type": "markdown",
   "metadata": {},
   "source": [
    "# END"
   ]
  },
  {
   "cell_type": "code",
   "execution_count": 5,
   "metadata": {},
   "outputs": [
    {
     "name": "stdout",
     "output_type": "stream",
     "text": [
      "Data: [6, 7, 15, 36, 39, 40, 41, 42, 43, 47, 49]\n",
      "Mean = 33.18181818181818\n",
      "Median = 40\n",
      "Midrange = 27.5\n",
      "Q1 = 15\n",
      "Q2 = 40\n",
      "Q3 = 43\n",
      "IQR = 28\n"
     ]
    }
   ],
   "source": [
    "def calculate_mean(data):\n",
    "    return sum(data) / len(data)\n",
    "\n",
    "def calculate_median(data):\n",
    "    n = len(data)\n",
    "    if n % 2 == 0:\n",
    "        return (data[n//2 - 1] + data[n//2]) / 2\n",
    "    else:\n",
    "        return data[n//2]\n",
    "\n",
    "def calculate_midrange(data):\n",
    "    return (max(data) + min(data)) / 2\n",
    "\n",
    "def calculate_quartiles(data):\n",
    "    n = len(data)\n",
    "    q2 = calculate_median(data)\n",
    "    if n % 2 == 0:\n",
    "        lower_half = data[:n//2]\n",
    "        upper_half = data[n//2:]\n",
    "    else:\n",
    "        lower_half = data[:n//2]\n",
    "        upper_half = data[n//2 + 1:]\n",
    "    q1 = calculate_median(lower_half)\n",
    "    q3 = calculate_median(upper_half)\n",
    "    return q1, q2, q3\n",
    "\n",
    "def calculate_iqr(data):\n",
    "    q1, q2, q3 = calculate_quartiles(data)\n",
    "    return q3 - q1\n",
    "\n",
    "# Given sorted data\n",
    "data = [6, 7, 15, 36, 39, 40, 41, 42, 43, 47, 49]\n",
    "\n",
    "# Calculating statistics\n",
    "mean = calculate_mean(data)\n",
    "median = calculate_median(data)\n",
    "midrange = calculate_midrange(data)\n",
    "q1, q2, q3 = calculate_quartiles(data)\n",
    "iqr = calculate_iqr(data)\n",
    "\n",
    "# Printing the results\n",
    "print(\"Data:\", data)\n",
    "print(\"Mean =\", mean)\n",
    "print(\"Median =\", median)\n",
    "print(\"Midrange =\", midrange)\n",
    "print(\"Q1 =\", q1)\n",
    "print(\"Q2 =\", q2)\n",
    "print(\"Q3 =\", q3)\n",
    "print(\"IQR =\", iqr)\n"
   ]
  },
  {
   "cell_type": "markdown",
   "metadata": {},
   "source": [
    "- Bấm máy thì ra được Mean\n",
    "- Bấm máy ra được median\n",
    "- Bấm máy sẽ ra được min với max : (max +  min)/2 = Midrange\n",
    "- Bấm máy ra được Q1\n",
    "- Bấm máy ra được Q3\n",
    "- IQR : Lấy Q3 - Q1 = IQR\n",
    "- Q2 = Median"
   ]
  },
  {
   "cell_type": "markdown",
   "metadata": {},
   "source": []
  },
  {
   "cell_type": "code",
   "execution_count": 12,
   "metadata": {},
   "outputs": [
    {
     "name": "stdout",
     "output_type": "stream",
     "text": [
      "[array([ 4,  8,  9, 15]), array([21, 21, 21]), array([24, 25, 26]), array([28, 29, 34])]\n",
      "3\n",
      "Equal-Width Bins:\n",
      "Bin 1: [ 4  8  9 15]\n",
      "Bin 2: [21 21 21]\n",
      "Bin 3: [24 25 26]\n",
      "Bin 4: [28 29 34]\n",
      "\n",
      "Equal-Depth Bins:\n",
      "Bin 1: [4, 8, 9]\n",
      "Bin 2: [15, 21, 21]\n",
      "Bin 3: [21, 24, 25]\n",
      "Bin 4: [26, 28, 29]\n",
      "\n",
      "Smoothing by Bin Median:\n",
      "[8.0, 21.0, 24.0, 28.0]\n",
      "\n",
      "Smoothing by Bin Boundaries:\n",
      "[4, 21, 21, 29]\n"
     ]
    },
    {
     "ename": "",
     "evalue": "",
     "output_type": "error",
     "traceback": [
      "\u001b[1;31mThe Kernel crashed while executing code in the current cell or a previous cell. \n",
      "\u001b[1;31mPlease review the code in the cell(s) to identify a possible cause of the failure. \n",
      "\u001b[1;31mClick <a href='https://aka.ms/vscodeJupyterKernelCrash'>here</a> for more info. \n",
      "\u001b[1;31mView Jupyter <a href='command:jupyter.viewOutput'>log</a> for further details."
     ]
    }
   ],
   "source": [
    "import numpy as np\n",
    "\n",
    "# Given sorted data\n",
    "data = [4, 8, 9, 15, 21,21, 21, 24, 25, 26, 28, 29, 34]\n",
    "\n",
    "# Step 1: Partition into Equal-Width Bins\n",
    "equal_width_bins = np.array_split(data, 4)\n",
    "print(equal_width_bins)\n",
    "# Step 2: Partition into Equal-Depth Bins\n",
    "equal_depth_bins = []\n",
    "bin_size = len(data) // 4\n",
    "print(bin_size)\n",
    "for i in range(4):\n",
    "    bin_start = i * bin_size\n",
    "    bin_end = bin_start + bin_size\n",
    "    equal_depth_bins.append(data[bin_start:bin_end])\n",
    "\n",
    "# Step 3: Smoothing by Bin Median\n",
    "bin_median_smoothed_data = [np.median(bin) for bin in equal_depth_bins]\n",
    "\n",
    "# Step 4: Smoothing by Bin Boundaries\n",
    "bin_boundary_smoothed_data = [bin_data[0] if i % 2 == 0 else bin_data[-1] for i, bin_data in enumerate(equal_depth_bins)]\n",
    "\n",
    "# Comparing results\n",
    "print(\"Equal-Width Bins:\")\n",
    "for i, bin_data in enumerate(equal_width_bins):\n",
    "    print(f\"Bin {i+1}: {bin_data}\")\n",
    "\n",
    "print(\"\\nEqual-Depth Bins:\")\n",
    "for i, bin_data in enumerate(equal_depth_bins):\n",
    "    print(f\"Bin {i+1}: {bin_data}\")\n",
    "\n",
    "print(\"\\nSmoothing by Bin Median:\")\n",
    "print(bin_median_smoothed_data)\n",
    "\n",
    "print(\"\\nSmoothing by Bin Boundaries:\")\n",
    "print(bin_boundary_smoothed_data)\n"
   ]
  },
  {
   "cell_type": "markdown",
   "metadata": {},
   "source": [
    "- Equal-width :\n",
    "    - Bin 1: [4, 8, 9]\n",
    "    - Bin 2: [15, 21, 21]\n",
    "    - Bin 3: [24, 25, 26]\n",
    "    - Bin 4: [28, 29, 34]\n",
    "\n",
    "- equal-depth"
   ]
  },
  {
   "cell_type": "markdown",
   "metadata": {},
   "source": []
  }
 ],
 "metadata": {
  "kernelspec": {
   "display_name": "venv",
   "language": "python",
   "name": "python3"
  },
  "language_info": {
   "codemirror_mode": {
    "name": "ipython",
    "version": 3
   },
   "file_extension": ".py",
   "mimetype": "text/x-python",
   "name": "python",
   "nbconvert_exporter": "python",
   "pygments_lexer": "ipython3",
   "version": "3.10.11"
  }
 },
 "nbformat": 4,
 "nbformat_minor": 2
}
