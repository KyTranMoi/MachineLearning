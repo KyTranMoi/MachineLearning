{
 "cells": [
  {
   "cell_type": "code",
   "execution_count": 44,
   "metadata": {},
   "outputs": [
    {
     "name": "stdout",
     "output_type": "stream",
     "text": [
      "Accuracy: 0.9285714285714286\n"
     ]
    }
   ],
   "source": [
    "import numpy as np\n",
    "from collections import defaultdict\n",
    "\n",
    "data = [\n",
    "    {'Outlook': 'Sunny', 'Humidity': 'High', 'Wind': 'Weak', 'PlayTennis': 'No'},\n",
    "    {'Outlook': 'Sunny', 'Humidity': 'High', 'Wind': 'Strong', 'PlayTennis': 'No'},\n",
    "    {'Outlook': 'Overcast', 'Humidity': 'High', 'Wind': 'Weak', 'PlayTennis': 'Yes'},\n",
    "    {'Outlook': 'Rain', 'Humidity': 'High', 'Wind': 'Weak', 'PlayTennis': 'Yes'},\n",
    "    {'Outlook': 'Rain', 'Humidity': 'Normal', 'Wind': 'Weak', 'PlayTennis': 'Yes'},\n",
    "    {'Outlook': 'Rain', 'Humidity': 'Normal', 'Wind': 'Strong', 'PlayTennis': 'No'},\n",
    "    {'Outlook': 'Overcast', 'Humidity': 'Normal', 'Wind': 'Strong', 'PlayTennis': 'Yes'},\n",
    "    {'Outlook': 'Sunny', 'Humidity': 'High', 'Wind': 'Weak', 'PlayTennis': 'No'},\n",
    "    {'Outlook': 'Sunny', 'Humidity': 'Normal', 'Wind': 'Weak', 'PlayTennis': 'Yes'},\n",
    "    {'Outlook': 'Rain', 'Humidity': 'Normal', 'Wind': 'Weak', 'PlayTennis': 'Yes'},\n",
    "    {'Outlook': 'Sunny', 'Humidity': 'Normal', 'Wind': 'Strong', 'PlayTennis': 'Yes'},\n",
    "    {'Outlook': 'Overcast', 'Humidity': 'High', 'Wind': 'Strong', 'PlayTennis': 'Yes'},\n",
    "    {'Outlook': 'Overcast', 'Humidity': 'Normal', 'Wind': 'Weak', 'PlayTennis': 'Yes'},\n",
    "    {'Outlook': 'Rain', 'Humidity': 'High', 'Wind': 'Strong', 'PlayTennis': 'No'}\n",
    "]\n",
    "\n",
    "\n",
    "def calculate_probabilities(data):\n",
    "    class_probabilities = defaultdict(lambda: defaultdict(int))\n",
    "    class_counts = defaultdict(int)\n",
    "\n",
    "    for row in data:\n",
    "        label = row['PlayTennis']\n",
    "        class_counts[label] += 1\n",
    "        for feature in row:\n",
    "            if feature != 'PlayTennis':\n",
    "                class_probabilities[label][feature + '=' + row[feature]] += 1\n",
    "\n",
    "    for label in class_probabilities:\n",
    "        for feature_value in class_probabilities[label]:\n",
    "            class_probabilities[label][feature_value] /= class_counts[label]\n",
    "\n",
    "    return class_probabilities, class_counts\n",
    "\n",
    "def classify(class_probabilities, class_counts, input_data):\n",
    "    probabilities = defaultdict(float)\n",
    "    for label in class_counts:\n",
    "        probabilities[label] = class_counts[label] / sum(class_counts.values())\n",
    "        for feature in input_data:\n",
    "            probabilities[label] *= class_probabilities[label][feature + '=' + input_data[feature]]\n",
    "\n",
    "    return max(probabilities, key=probabilities.get)\n",
    "\n",
    "def accuracy(data, class_probabilities, class_counts):\n",
    "    correct = 0\n",
    "    for row in data:\n",
    "        input_data = {feature: row[feature] for feature in row if feature != 'PlayTennis'}\n",
    "        if classify(class_probabilities, class_counts, input_data) == row['PlayTennis']:\n",
    "            correct += 1\n",
    "    return correct / len(data)\n",
    "\n",
    "class_probabilities, class_counts = calculate_probabilities(data)\n",
    "acc = accuracy(data, class_probabilities, class_counts)\n",
    "print(f\"Accuracy: {acc}\")"
   ]
  },
  {
   "cell_type": "code",
   "execution_count": 45,
   "metadata": {},
   "outputs": [
    {
     "name": "stdout",
     "output_type": "stream",
     "text": [
      "Class probabilities:\n",
      "No defaultdict(<class 'int'>, {'Outlook=Sunny': 0.6, 'Humidity=High': 0.8, 'Wind=Weak': 0.4, 'Wind=Strong': 0.6, 'Outlook=Rain': 0.4, 'Humidity=Normal': 0.2, 'Outlook=Overcast': 0})\n",
      "Yes defaultdict(<class 'int'>, {'Outlook=Overcast': 0.4444444444444444, 'Humidity=High': 0.3333333333333333, 'Wind=Weak': 0.6666666666666666, 'Outlook=Rain': 0.3333333333333333, 'Humidity=Normal': 0.6666666666666666, 'Wind=Strong': 0.3333333333333333, 'Outlook=Sunny': 0.2222222222222222})\n",
      "Class counts:\n",
      "defaultdict(<class 'int'>, {'No': 5, 'Yes': 9})\n"
     ]
    }
   ],
   "source": [
    "print(\"Class probabilities:\")\n",
    "for label in class_probabilities:\n",
    "    print(label, class_probabilities[label])\n",
    "print(\"Class counts:\")\n",
    "print(class_counts)"
   ]
  },
  {
   "cell_type": "code",
   "execution_count": 46,
   "metadata": {},
   "outputs": [
    {
     "name": "stdout",
     "output_type": "stream",
     "text": [
      "Classify:\n",
      "Input: {'Outlook': 'Sunny', 'Humidity': 'High', 'Wind': 'Weak'}, Predict: No, Actual: No\n",
      "Input: {'Outlook': 'Sunny', 'Humidity': 'High', 'Wind': 'Strong'}, Predict: No, Actual: No\n",
      "Input: {'Outlook': 'Overcast', 'Humidity': 'High', 'Wind': 'Weak'}, Predict: Yes, Actual: Yes\n",
      "Input: {'Outlook': 'Rain', 'Humidity': 'High', 'Wind': 'Weak'}, Predict: Yes, Actual: Yes\n",
      "Input: {'Outlook': 'Rain', 'Humidity': 'Normal', 'Wind': 'Weak'}, Predict: Yes, Actual: Yes\n",
      "Input: {'Outlook': 'Rain', 'Humidity': 'Normal', 'Wind': 'Strong'}, Predict: Yes, Actual: No\n",
      "Input: {'Outlook': 'Overcast', 'Humidity': 'Normal', 'Wind': 'Strong'}, Predict: Yes, Actual: Yes\n",
      "Input: {'Outlook': 'Sunny', 'Humidity': 'High', 'Wind': 'Weak'}, Predict: No, Actual: No\n",
      "Input: {'Outlook': 'Sunny', 'Humidity': 'Normal', 'Wind': 'Weak'}, Predict: Yes, Actual: Yes\n",
      "Input: {'Outlook': 'Rain', 'Humidity': 'Normal', 'Wind': 'Weak'}, Predict: Yes, Actual: Yes\n",
      "Input: {'Outlook': 'Sunny', 'Humidity': 'Normal', 'Wind': 'Strong'}, Predict: Yes, Actual: Yes\n",
      "Input: {'Outlook': 'Overcast', 'Humidity': 'High', 'Wind': 'Strong'}, Predict: Yes, Actual: Yes\n",
      "Input: {'Outlook': 'Overcast', 'Humidity': 'Normal', 'Wind': 'Weak'}, Predict: Yes, Actual: Yes\n",
      "Input: {'Outlook': 'Rain', 'Humidity': 'High', 'Wind': 'Strong'}, Predict: No, Actual: No\n"
     ]
    }
   ],
   "source": [
    "print(\"Classify:\")\n",
    "for row in data:\n",
    "    input_data = {feature: row[feature] for feature in row if feature != 'PlayTennis'}\n",
    "    print(f\"Input: {input_data}, Predict: {classify(class_probabilities, class_counts, input_data)}, Actual: {row['PlayTennis']}\")"
   ]
  },
  {
   "cell_type": "code",
   "execution_count": 47,
   "metadata": {},
   "outputs": [
    {
     "name": "stdout",
     "output_type": "stream",
     "text": [
      "Accuracy: 0.9285714285714286\n"
     ]
    }
   ],
   "source": [
    "print(f\"Accuracy: {acc}\")"
   ]
  },
  {
   "cell_type": "code",
   "execution_count": null,
   "metadata": {},
   "outputs": [],
   "source": []
  }
 ],
 "metadata": {
  "kernelspec": {
   "display_name": "Python 3",
   "language": "python",
   "name": "python3"
  },
  "language_info": {
   "codemirror_mode": {
    "name": "ipython",
    "version": 3
   },
   "file_extension": ".py",
   "mimetype": "text/x-python",
   "name": "python",
   "nbconvert_exporter": "python",
   "pygments_lexer": "ipython3",
   "version": "3.10.11"
  }
 },
 "nbformat": 4,
 "nbformat_minor": 2
}
