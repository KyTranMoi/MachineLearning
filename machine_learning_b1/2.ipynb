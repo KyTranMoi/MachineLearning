{
 "cells": [
  {
   "cell_type": "code",
   "execution_count": 71,
   "metadata": {},
   "outputs": [
    {
     "name": "stdout",
     "output_type": "stream",
     "text": [
      "\n",
      "Dữ liệu ban đầu: \n",
      "Họ tên: W, Mã SV: SV003, Kết quả: 9.5\n",
      "Họ tên: E, Mã SV: SV005, Kết quả: 9.2\n",
      "Họ tên: A, Mã SV: SV001, Kết quả: 9.0\n",
      "Họ tên: B, Mã SV: SV002, Kết quả: 8.5\n",
      "Họ tên: L, Mã SV: SV004, Kết quả: 8.8\n",
      "\n",
      "Dữ liệu sau khi sắp xếp theo Họ và tên:\n",
      "Họ tên: A, Mã SV: SV001, Kết quả: 9.0\n",
      "Họ tên: B, Mã SV: SV002, Kết quả: 8.5\n",
      "Họ tên: E, Mã SV: SV005, Kết quả: 9.2\n",
      "Họ tên: L, Mã SV: SV004, Kết quả: 8.8\n",
      "Họ tên: W, Mã SV: SV003, Kết quả: 9.5\n",
      "\n",
      "Top 3 sinh viên có Kết quả học tập cao nhất:\n",
      "Họ tên: W, Mã SV: SV003, Kết quả: 9.5\n",
      "Họ tên: E, Mã SV: SV005, Kết quả: 9.2\n",
      "Họ tên: A, Mã SV: SV001, Kết quả: 9.0\n"
     ]
    }
   ],
   "source": [
    "import heapq\n",
    "\n",
    "class SinhVien:\n",
    "    def __init__(self, hoten, masv):\n",
    "        self.hoten = hoten\n",
    "        self.masv = masv\n",
    "\n",
    "class KetQua:\n",
    "    def __init__(self, ketqua):\n",
    "        self.ketqua = ketqua\n",
    "\n",
    "class PriorityQueue:\n",
    "    def __init__(self):\n",
    "        self.heap = []\n",
    "\n",
    "    def push(self, priority, item):\n",
    "        heapq.heappush(self.heap, (-priority, item))  \n",
    "\n",
    "    def pop(self):\n",
    "        return heapq.heappop(self.heap)\n",
    "\n",
    "\n",
    "pq = PriorityQueue()\n",
    "\n",
    "pq.push(90, (SinhVien(\"A\", \"SV001\"), KetQua(9.0)))\n",
    "pq.push(85, (SinhVien(\"B\", \"SV002\"), KetQua(8.5)))\n",
    "pq.push(95, (SinhVien(\"W\", \"SV003\"), KetQua(9.5)))\n",
    "pq.push(88, (SinhVien(\"L\", \"SV004\"), KetQua(8.8)))\n",
    "pq.push(92, (SinhVien(\"E\", \"SV005\"), KetQua(9.2)))\n",
    "\n",
    "print(\"\\nDữ liệu ban đầu: \")\n",
    "for item in pq.heap:\n",
    "    print(f\"Họ tên: {item[1][0].hoten}, Mã SV: {item[1][0].masv}, Kết quả: {item[1][1].ketqua}\")\n",
    "    \n",
    "sorted_data = sorted(pq.heap, key=lambda x: x[1][0].hoten)\n",
    "print(\"\\nDữ liệu sau khi sắp xếp theo Họ và tên:\")\n",
    "for item in sorted_data:\n",
    "    print(f\"Họ tên: {item[1][0].hoten}, Mã SV: {item[1][0].masv}, Kết quả: {item[1][1].ketqua}\")\n",
    "\n",
    "\n",
    "print(\"\\nTop 3 sinh viên có Kết quả học tập cao nhất:\")\n",
    "for i in range(3):\n",
    "    if pq.heap:\n",
    "        item = pq.pop()\n",
    "        print(f\"Họ tên: {item[1][0].hoten}, Mã SV: {item[1][0].masv}, Kết quả: {item[1][1].ketqua}\")\n",
    "    else:\n",
    "        break\n"
   ]
  },
  {
   "cell_type": "code",
   "execution_count": null,
   "metadata": {},
   "outputs": [],
   "source": []
  }
 ],
 "metadata": {
  "kernelspec": {
   "display_name": "Python 3",
   "language": "python",
   "name": "python3"
  },
  "language_info": {
   "codemirror_mode": {
    "name": "ipython",
    "version": 3
   },
   "file_extension": ".py",
   "mimetype": "text/x-python",
   "name": "python",
   "nbconvert_exporter": "python",
   "pygments_lexer": "ipython3",
   "version": "3.10.11"
  }
 },
 "nbformat": 4,
 "nbformat_minor": 2
}
