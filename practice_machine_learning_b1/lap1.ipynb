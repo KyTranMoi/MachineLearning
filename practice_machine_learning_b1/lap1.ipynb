{
 "cells": [
  {
   "cell_type": "markdown",
   "metadata": {},
   "source": [
    "# Bài 1:                                                                                       "
   ]
  },
  {
   "cell_type": "code",
   "execution_count": 5,
   "metadata": {},
   "outputs": [
    {
     "name": "stdout",
     "output_type": "stream",
     "text": [
      "[[0. 0. 0. 0.]\n",
      " [0. 0. 0. 0.]\n",
      " [0. 0. 0. 0.]]\n",
      "[[1. 1. 1. 1.]\n",
      " [1. 1. 1. 1.]]\n",
      "[[5 5 5 5]\n",
      " [5 5 5 5]\n",
      " [5 5 5 5]\n",
      " [5 5 5 5]]\n",
      "[[1. 0. 0. 0. 0.]\n",
      " [0. 1. 0. 0. 0.]\n",
      " [0. 0. 1. 0. 0.]\n",
      " [0. 0. 0. 1. 0.]\n",
      " [0. 0. 0. 0. 1.]]\n",
      "[[0.42785365 0.60761552 0.88896131 0.53270452 0.62112483 0.25911058]\n",
      " [0.63693585 0.06125048 0.2960267  0.05922125 0.29277282 0.48201933]\n",
      " [0.9339914  0.40780973 0.13381689 0.38914915 0.91156949 0.29728291]\n",
      " [0.39079005 0.60156929 0.37343675 0.70384635 0.33474788 0.08970587]]\n"
     ]
    }
   ],
   "source": [
    "import numpy as np\n",
    "\n",
    "A = np.zeros((3,4))\n",
    "B = np.ones((2,4))\n",
    "C = np.full((4,4),5)\n",
    "D = np.eye(5)\n",
    "E = np.random.random((4,6))\n",
    "print(A)\n",
    "print(B)\n",
    "print(C)\n",
    "print(D)\n",
    "print(E)"
   ]
  },
  {
   "cell_type": "code",
   "execution_count": 6,
   "metadata": {},
   "outputs": [
    {
     "name": "stdout",
     "output_type": "stream",
     "text": [
      "[[1. 0. 0. 0. 0.]\n",
      " [0. 1. 0. 0. 0.]\n",
      " [0. 0. 1. 0. 0.]\n",
      " [0. 0. 0. 1. 0.]\n",
      " [0. 0. 0. 0. 1.]]\n",
      "[[ 0.  1.  2.  3.  4.]\n",
      " [ 2.  3.  4.  5.  6.]\n",
      " [ 4.  5.  6.  7.  8.]\n",
      " [ 6.  7.  8.  9. 10.]\n",
      " [ 8.  9. 10. 11. 12.]]\n",
      "1.0\n",
      "0.0\n",
      "[[ 0.  0.  0.  0.  0.]\n",
      " [ 0.  3.  0.  0.  0.]\n",
      " [ 0.  0.  6.  0.  0.]\n",
      " [ 0.  0.  0.  9.  0.]\n",
      " [ 0.  0.  0.  0. 12.]]\n",
      "[[ 1.  1.  2.  3.  4.]\n",
      " [ 2.  4.  4.  5.  6.]\n",
      " [ 4.  5.  7.  7.  8.]\n",
      " [ 6.  7.  8. 10. 10.]\n",
      " [ 8.  9. 10. 11. 13.]]\n",
      "[[  1.  -1.  -2.  -3.  -4.]\n",
      " [ -2.  -2.  -4.  -5.  -6.]\n",
      " [ -4.  -5.  -5.  -7.  -8.]\n",
      " [ -6.  -7.  -8.  -8. -10.]\n",
      " [ -8.  -9. -10. -11. -11.]]\n",
      "[[       inf 0.         0.         0.         0.        ]\n",
      " [0.         1.33333333 0.         0.         0.        ]\n",
      " [0.         0.         0.66666667 0.         0.        ]\n",
      " [0.         0.         0.         0.44444444 0.        ]\n",
      " [0.         0.         0.         0.         0.33333333]]\n"
     ]
    },
    {
     "name": "stderr",
     "output_type": "stream",
     "text": [
      "C:\\Users\\kytra\\AppData\\Local\\Temp\\ipykernel_16624\\1251618603.py:17: RuntimeWarning: divide by zero encountered in divide\n",
      "  print(4*A/B)\n"
     ]
    }
   ],
   "source": [
    "A = np.eye(5)\n",
    "B = np.zeros((5,5))\n",
    "for i in range(5):\n",
    "    for j in range(5):\n",
    "        if i == j:\n",
    "            A[i,j] = 1\n",
    "        else:\n",
    "            A[i,j] = 0\n",
    "        B[i,j] = 2*i + j\n",
    "print(A)\n",
    "print(B)\n",
    "print(np.linalg.det(A))\n",
    "print(np.linalg.det(B))\n",
    "print(A*B)\n",
    "print(A+B)\n",
    "print(A-B)\n",
    "print(4*A/B)\n"
   ]
  },
  {
   "cell_type": "markdown",
   "metadata": {},
   "source": [
    "# Bài 2 :"
   ]
  },
  {
   "cell_type": "markdown",
   "metadata": {},
   "source": [
    "### Cách 1:"
   ]
  },
  {
   "cell_type": "markdown",
   "metadata": {},
   "source": [
    "- Xác suất lấy được 3 trái hư:\n",
    "\n",
    "$$\\begin{align}\n",
    "\n",
    "P(AAA) = P(A) \\times P(A) \\times P(A) \\\\\n",
    "P(A) = \\frac{\\text{số trái hư còn lại}}{\\text{số trái trong sọt}}\\\\\n",
    "P(AAA) = \\frac{4}{10} \\times \\frac{3}{9} \\times \\frac{2}{8} = \\frac{1}{30}\\\\\n",
    "\n",
    "\\end{align}$$\n",
    "- Xác suất lấy được 1 trái hư :\n",
    "$$\\begin{align}\n",
    "P(A\\overline{A}\\overline{A} + \\overline{A}A\\overline{A} + \\overline{A}\\overline{A}A) = P(A) \\times P(B) \\times P(B) + P(B) \\times P(A) \\times P(B) + P(B) \\times P(B) \\times P(A)\\\\\n",
    "P(A\\overline{A}\\overline{A} + \\overline{A}A\\overline{A} + \\overline{A}\\overline{A}A) = 3 \\times \\left(\\frac{4}{10} \\times \\frac{6}{9} \\times \\frac{5}{8}\\right) = \\frac{1}{2}\\\\\n",
    "\\end{align}$$\n",
    "- Xác suất lấy được ít nhất một trái hư:\n",
    "$$P(\\text{ính nhất một trái hư}) = 1 - P(\\text{không có trái hư})\\\\\n",
    "P(\\text{không có trái hư}) = P(BBB) = P(B) \\times P(B) \\times P(B)\\\\\n",
    "P(\\text{ính nhất một trái hư}) = 1 - P(BBB) = 1 - \\frac{6}{10} \\times \\frac{5}{9} \\times \\frac{4}{8} = \\frac{5}{6}\\\\$$\n",
    "- Xác suất lấy được nhiều nhất 2 trái hư:\n",
    "$$\n",
    "P(\\leq 2 \\text{ trái hư}) = P(\\text{không có trái hư}) + P(1 \\text{ trái hư}) + P(2 \\text{ trái hư})\\\\\n",
    "P(\\leq 2 \\text{ trái hư}) = P(BBB) + P(A\\overline{A}\\overline{A} + \\overline{A}A\\overline{A}) = \\frac{6}{10} \\times \\frac{5}{9} \\times \\frac{4}{8} + \\frac{90}{240} = \\frac{2}{3}\\\\\n",
    "$$"
   ]
  },
  {
   "cell_type": "markdown",
   "metadata": {},
   "source": [
    "### Cách 2:"
   ]
  },
  {
   "cell_type": "code",
   "execution_count": 7,
   "metadata": {},
   "outputs": [
    {
     "name": "stdout",
     "output_type": "stream",
     "text": [
      "a) P(3 trái hư) = 1/30\n",
      "b) P(1 trái hư) = 1/2\n",
      "c) P(ính nhất một trái hư) = 5/6\n",
      "d) P(nhiều nhất 2 trái hư) = 2/3\n"
     ]
    }
   ],
   "source": [
    "from sympy import nsimplify\n",
    "\n",
    "# Số trái cam và trái hư\n",
    "total_oranges = 10\n",
    "defective_oranges = 4\n",
    "\n",
    "# Xác suất lấy được 3 trái hư\n",
    "prob_3_defective = nsimplify(defective_oranges/total_oranges * (defective_oranges-1)/(total_oranges-1) * (defective_oranges-2)/(total_oranges-2))\n",
    "\n",
    "# Xác suất lấy được 1 trái hư\n",
    "prob_1_defective = nsimplify(3 * (defective_oranges/total_oranges * (total_oranges-defective_oranges)/(total_oranges-1) * (total_oranges-defective_oranges-1)/(total_oranges-2)))\n",
    "\n",
    "# Xác suất lấy được ít nhất một trái hư\n",
    "prob_at_least_one_defective = nsimplify(1 - (total_oranges-defective_oranges)/(total_oranges) * (total_oranges-defective_oranges-1)/(total_oranges-1) * (total_oranges-defective_oranges-2)/(total_oranges-2))\n",
    "\n",
    "# Xác suất lấy được nhiều nhất 2 trái hư\n",
    "prob_at_most_2_defective = nsimplify((total_oranges-defective_oranges)/(total_oranges) * (total_oranges-defective_oranges-1)/(total_oranges-1) * (total_oranges-defective_oranges-2)/(total_oranges-2) + 3 * (defective_oranges/total_oranges * (total_oranges-defective_oranges)/(total_oranges-1) * (total_oranges-defective_oranges-1)/(total_oranges-2)))\n",
    "\n",
    "# In kết quả\n",
    "print(f\"a) P(3 trái hư) = {prob_3_defective}\")\n",
    "print(f\"b) P(1 trái hư) = {prob_1_defective}\")\n",
    "print(f\"c) P(ính nhất một trái hư) = {prob_at_least_one_defective}\")\n",
    "print(f\"d) P(nhiều nhất 2 trái hư) = {prob_at_most_2_defective}\")\n"
   ]
  },
  {
   "cell_type": "markdown",
   "metadata": {},
   "source": [
    "# Bài 3:"
   ]
  },
  {
   "cell_type": "markdown",
   "metadata": {},
   "source": [
    "- Không có con trai:\n",
    "$$ P(\\text{Không có con trai}) = \\binom{10}{0} \\times 0.5^0 \\times 0.5^{10} $$\n",
    "\n",
    "- Có 5 con trai và 5 con gái:\n",
    "$$ P(\\text{5 con trai và 5 con gái}) = \\binom{10}{5} \\times 0.5^5 \\times 0.5^5 $$\n",
    "\n",
    "- Số con trai từ 5-7:\n",
    "$$ P(5 \\leq \\text{Số trai} \\leq 7) = P(\\text{5 con trai}) + P(\\text{6 con trai}) + P(\\text{7 con trai}) $$\n",
    "$$ = \\binom{10}{5} \\times 0.5^5 \\times 0.5^5 + \\binom{10}{6} \\times 0.5^6 \\times 0.5^4 + \\binom{10}{7} \\times 0.5^7 \\times 0.5^3 $$\n",
    "\n"
   ]
  },
  {
   "cell_type": "code",
   "execution_count": 8,
   "metadata": {},
   "outputs": [
    {
     "name": "stdout",
     "output_type": "stream",
     "text": [
      "a) P(Không có con trai) = 0.000976562499999999\n",
      "b) P(5 con trai và 5 con gái) = 0.24609375\n",
      "c) P(5 đến 7 con trai) = 0.5683593749999999\n"
     ]
    }
   ],
   "source": [
    "from scipy.stats import binom\n",
    "\n",
    "# Số lượng con\n",
    "n = 10\n",
    "\n",
    "# Xác suất sinh con trai (và con gái)\n",
    "p = 0.5\n",
    "\n",
    "# a) Không có con trai\n",
    "prob_no_son = binom.pmf(0, n, p)\n",
    "\n",
    "# b) Có 5 con trai và 5 con gái\n",
    "prob_5_sons_5_daughters = binom.pmf(5, n, p)\n",
    "\n",
    "# c) Số trai từ 5 đến 7\n",
    "prob_5_to_7_sons = sum(binom.pmf(k, n, p) for k in range(5, 8))\n",
    "\n",
    "# In kết quả\n",
    "print(f\"a) P(Không có con trai) = {prob_no_son}\")\n",
    "print(f\"b) P(5 con trai và 5 con gái) = {prob_5_sons_5_daughters}\")\n",
    "print(f\"c) P(5 đến 7 con trai) = {prob_5_to_7_sons}\")\n"
   ]
  },
  {
   "cell_type": "markdown",
   "metadata": {},
   "source": [
    "# Bài 4:"
   ]
  },
  {
   "cell_type": "code",
   "execution_count": 9,
   "metadata": {},
   "outputs": [
    {
     "name": "stdout",
     "output_type": "stream",
     "text": [
      "a. Kỳ vọng: 1.5\n",
      "   Phương sai: 1.25\n",
      "   Độ lệch chuẩn: 1.118033988749895\n",
      "\n",
      "b. Kỳ vọng: 4500.0\n",
      "   Phương sai: 9072067500.000002\n",
      "   Độ lệch chuẩn: 95247.4015393596\n",
      "\n",
      "c. Kỳ vọng: 1.5\n",
      "   Phương sai: 1.25\n",
      "   Độ lệch chuẩn: 1.118033988749895\n",
      "\n",
      "d. Kỳ vọng: 14.959503059051098\n",
      "   Phương sai: 24.26936341118246\n",
      "   Độ lệch chuẩn: 4.926394565113767\n"
     ]
    }
   ],
   "source": [
    "import numpy as np\n",
    "from scipy.stats import binom\n",
    "from scipy.integrate import quad\n",
    "\n",
    "# Hàm lập bảng phân phối xác suất\n",
    "def probability_distribution():\n",
    "    outcomes = np.array([0, 1, 2, 3])\n",
    "    probabilities = binom.pmf(outcomes, 3, 0.3)\n",
    "    return outcomes, probabilities\n",
    "\n",
    "# Hàm tính kỳ vọng\n",
    "def calculate_expectation(data):\n",
    "    return np.mean(data)\n",
    "\n",
    "# Hàm tính phương sai\n",
    "def calculate_variance(data):\n",
    "    return np.var(data)\n",
    "\n",
    "# Hàm tính độ lệch chuẩn\n",
    "def calculate_standard_deviation(data):\n",
    "    return np.std(data)\n",
    "\n",
    "# Hàm hàm mật độ xác suất cho biến ngẫu nhiên liên tục\n",
    "def f(x):\n",
    "    if 0 <= x <= 30:\n",
    "        return k * (30 - x)\n",
    "    else:\n",
    "        return 0\n",
    "\n",
    "# Hàm tính kỳ vọng cho biến ngẫu nhiên liên tục\n",
    "def continuous_expectation():\n",
    "    return quad(lambda x: x * f(x), 0, 30)[0]\n",
    "\n",
    "# Hàm tính phương sai cho biến ngẫu nhiên liên tục\n",
    "def continuous_variance():\n",
    "    return quad(lambda x: (x - continuous_expectation()) ** 2 * f(x), 0, 30)[0]\n",
    "\n",
    "# Hàm tính độ lệch chuẩn cho biến ngẫu nhiên liên tục\n",
    "def continuous_standard_deviation():\n",
    "    return np.sqrt(continuous_variance())\n",
    "\n",
    "# a. Lập bảng phân phối xác suất và ghi vào file data.txt\n",
    "outcomes, probabilities = probability_distribution()\n",
    "np.savetxt('data.txt', np.column_stack((outcomes, probabilities)), fmt='%d %.5f')\n",
    "\n",
    "# Đọc dữ liệu từ file data.txt\n",
    "data = np.loadtxt('data.txt')\n",
    "\n",
    "# a. Áp dụng các hàm cho dữ liệu ở câu a\n",
    "expectation_a = calculate_expectation(data[:, 0])\n",
    "variance_a = calculate_variance(data[:, 0])\n",
    "std_deviation_a = calculate_standard_deviation(data[:, 0])\n",
    "\n",
    "# b. Áp dụng các hàm cho dữ liệu ở câu b\n",
    "k = 1  # Thay đổi giá trị của k tùy thuộc vào hàm mật độ xác suất f(x)\n",
    "expectation_b = continuous_expectation()\n",
    "variance_b = continuous_variance()\n",
    "std_deviation_b = continuous_standard_deviation()\n",
    "\n",
    "# c. Áp dụng thư viện cho dữ liệu ở câu c\n",
    "expectation_c = np.mean(data[:, 0])\n",
    "variance_c = np.var(data[:, 0])\n",
    "std_deviation_c = np.std(data[:, 0])\n",
    "\n",
    "# d. (Không cung cấp thông tin đầy đủ về biến ngẫu nhiên liên tục, không thể sử dụng thư viện trực tiếp)\n",
    "\n",
    "# Hiển thị kết quả\n",
    "print(\"a. Kỳ vọng:\", expectation_a)\n",
    "print(\"   Phương sai:\", variance_a)\n",
    "print(\"   Độ lệch chuẩn:\", std_deviation_a)\n",
    "\n",
    "print(\"\\nb. Kỳ vọng:\", expectation_b)\n",
    "print(\"   Phương sai:\", variance_b)\n",
    "print(\"   Độ lệch chuẩn:\", std_deviation_b)\n",
    "\n",
    "print(\"\\nc. Kỳ vọng:\", expectation_c)\n",
    "print(\"   Phương sai:\", variance_c)\n",
    "print(\"   Độ lệch chuẩn:\", std_deviation_c)\n",
    "from scipy.stats import norm\n",
    "\n",
    "# Hàm mật độ xác suất cho biến ngẫu nhiên liên tục\n",
    "def f(x):\n",
    "    return norm.pdf(x, loc=15, scale=5)  # Ví dụ với giả định hàm mật độ xác suất là phân phối Gaussian\n",
    "\n",
    "# Hàm tính kỳ vọng cho biến ngẫu nhiên liên tục\n",
    "expectation_d = quad(lambda x: x * f(x), 0, 30)[0]\n",
    "\n",
    "# Hàm tính phương sai cho biến ngẫu nhiên liên tục\n",
    "variance_d = quad(lambda x: (x - expectation_d) ** 2 * f(x), 0, 30)[0]\n",
    "\n",
    "# Hàm tính độ lệch chuẩn cho biến ngẫu nhiên liên tục\n",
    "std_deviation_d = np.sqrt(variance_d)\n",
    "\n",
    "# Hiển thị kết quả\n",
    "print(\"\\nd. Kỳ vọng:\", expectation_d)\n",
    "print(\"   Phương sai:\", variance_d)\n",
    "print(\"   Độ lệch chuẩn:\", std_deviation_d)\n"
   ]
  },
  {
   "cell_type": "markdown",
   "metadata": {},
   "source": [
    "# Câu 5:"
   ]
  },
  {
   "cell_type": "markdown",
   "metadata": {},
   "source": [
    "**Ước lượng khoảng tin cậy 95% về sự khác biệt trong tỷ lệ xem tivi tại phòng ăn của người Mỹ trong độ tuổi 45-69 và 60 trở lên**\n",
    "\n",
    "Giả sử:\n",
    "\n",
    "* $p_1$: tỷ lệ người Mỹ trong độ tuổi 45-69 xem tivi tại phòng ăn\n",
    "* $p_2$: tỷ lệ người Mỹ trong độ tuổi 60 trở lên xem tivi tại phòng ăn\n",
    "\n",
    "Giả định hai mẫu là độc lập và có kích thước đủ lớn để sử dụng ước lượng khoảng tin cậy bằng phân phối chuẩn.\n",
    "\n",
    "Công thức ước lượng khoảng tin cậy cho sự khác biệt giữa hai tỷ lệ là:\n",
    "\n",
    "\\begin{align*}\n",
    "\\text{Độ rộng của khoảng tin cậy} &= Z \\sqrt{\\frac{p_1(1-p_1)}{n_1} + \\frac{p_2(1-p_2)}{n_2}} \\\\\n",
    "&= 1.96 \\sqrt{\\frac{p_1(1-p_1)}{n_1} + \\frac{p_2(1-p_2)}{n_2}}\n",
    "\\end{align*}\n",
    "\n",
    "Ở đây, $Z$ là z-score tương ứng với mức tin cậy 95% (đối với một phân phối chuẩn, $Z = 1.96$), $p_1$ và $p_2$ là tỷ lệ ở hai nhóm, $n_1$ và $n_2$ là kích thước mẫu ở hai nhóm.\n",
    "\n",
    "Giả sử $p_1 = 0.1$ (10%) cho nhóm 45-69 và $p_2 = 0.1$ (10%) cho nhóm 60 trở lên, và kích thước mẫu $n_1 = n_2 = 100$.\n",
    "\n",
    "Thực hiện tính toán:\n",
    "\n",
    "\\begin{align*}\n",
    "\\text{Độ rộng của khoảng tin cậy} &= 1.96 \\sqrt{\\frac{0.1(1-0.1)}{100} + \\frac{0.1(1-0.1)}{100}} \\\\\n",
    "&\\approx 1.96 \\sqrt{\\frac{0.09}{100} + \\frac{0.09}{100}} \\\\\n",
    "&\\approx 1.96 \\sqrt{0.0009 + 0.0009} \\\\\n",
    "&\\approx 1.96 \\sqrt{0.0018} \\\\\n",
    "&\\approx 1.96 \\times 0.0424 \\\\\n",
    "&\\approx 0.083\n",
    "\\end{align*}\n",
    "\n",
    "Sau đó, ước lượng khoảng tin cậy cho sự khác biệt giữa hai tỷ lệ sẽ là:\n",
    "\n",
    "\\begin{align*}\n",
    "\\text{Khoảng tin cậy} &= (p_1 - p_2) \\pm \\text{Độ rộng của khoảng tin cậy} \\\\\n",
    "&= (0.1 - 0.1) \\pm 0.083 \\\\\n",
    "&= (-0.083, 0.083)\n",
    "\\end{align*}\n",
    "\n",
    "**Kết luận**\n",
    "\n",
    "Vậy, ước lượng khoảng tin cậy 95% cho sự khác biệt trong tỷ lệ xem tivi tại phòng ăn của người Mỹ trong độ tuổi 45-69 và 60 trở lên là từ -0.083 đến 0.083."
   ]
  },
  {
   "cell_type": "code",
   "execution_count": 10,
   "metadata": {},
   "outputs": [
    {
     "name": "stdout",
     "output_type": "stream",
     "text": [
      "Margin of Error: 0.083\n",
      "Confidence Interval: (-0.083, 0.083)\n"
     ]
    }
   ],
   "source": [
    "import math\n",
    "# Tỉ lệ cho nhóm 1 (45-69) và nhóm 2 (60 trở lên)\n",
    "p1 = 0.10\n",
    "p2 = 0.10\n",
    "# Kích thước mẫu cho cả hai nhóm\n",
    "n1 = 100\n",
    "n2 = 100\n",
    "# Z-score cho mức tin cậy 95%\n",
    "z_score = 1.96\n",
    "# Tính Margin of Error\n",
    "margin_of_error = z_score * math.sqrt((p1 * (1 - p1) / n1) + (p2 * (1 - p2) / n2))\n",
    "# Ước lượng khoảng tin cậy cho sự khác biệt giữa tỷ lệ hai nhóm\n",
    "confidence_interval_lower = (p1 - p2) - margin_of_error\n",
    "confidence_interval_upper = (p1 - p2) + margin_of_error\n",
    "# In kết quả\n",
    "print(f\"Margin of Error: {margin_of_error:.3f}\")\n",
    "print(f\"Confidence Interval: ({confidence_interval_lower:.3f}, {confidence_interval_upper:.3f})\")\n"
   ]
  },
  {
   "cell_type": "markdown",
   "metadata": {},
   "source": [
    "**Ước lượng khoảng tin cậy 95% cho sự khác biệt giữa các tỷ lệ xem tivi tại phòng khách, phòng sinh hoạt chung hoặc phòng làm việc của người Mỹ trong nhóm tuổi từ 25 đến 59 và nhóm từ 60 trở lên**\n",
    "\n",
    "Giả sử:\n",
    "\n",
    "* $p_{25-59}$: tỷ lệ người Mỹ trong nhóm tuổi từ 25 đến 59 xem tivi tại phòng khách, phòng sinh hoạt chung hoặc phòng làm việc.\n",
    "* $p_{60+}$: tỷ lệ người Mỹ trong nhóm tuổi từ 60 trở lên xem tivi tại phòng khách, phòng sinh hoạt chung hoặc phòng làm việc.\n",
    "\n",
    "Dựa trên dữ liệu đã cho, chúng ta có:\n",
    "\n",
    "* $p_{25-59} = \\frac{95\\% + 95\\%}{2} = 95\\%$\n",
    "* $p_{60+} = 93\\%$\n",
    "* $n_{25-59} = n_{60+} = 2000$\n",
    "\n",
    "Do đó, độ rộng của khoảng tin cậy là:\n",
    "\n",
    "\\begin{align*}\n",
    "\\text{Độ rộng của khoảng tin cậy} &= Z \\times \\sqrt{\\frac{{p_{25-59}(1-p_{25-59})}}{{n_{25-59}}} + \\frac{{p_{60+}(1-p_{60+})}}{{n_{60+}}}} \\\\\n",
    "&= 1.96 \\times \\sqrt{\\frac{{0.95(1-0.95)}}{{2000}} + \\frac{{0.93(1-0.93)}}{{2000}}} \\\\\n",
    "&\\approx 0.01470\n",
    "\\end{align*}\n",
    "\n",
    "Vậy, ước lượng khoảng tin cậy 95% cho sự khác biệt giữa các tỷ lệ xem tivi tại phòng khách, phòng sinh hoạt chung hoặc phòng làm việc của người Mỹ trong nhóm tuổi từ 25 đến 59 và nhóm từ 60 trở lên là:\n",
    "\n",
    "\\begin{align*}\n",
    "\\text{Khoảng tin cậy} &= (p_{25-59} - p_{60+}) \\pm \\text{Độ rộng của khoảng tin cậy} \\\\\n",
    "&= (0.95 - 0.93) \\pm 0.01470 \\\\\n",
    "&= (0.005, 0.035)\n",
    "\\end{align*}\n",
    "\n",
    "**Kết luận**\n",
    "\n",
    "Vậy, ước lượng khoảng tin cậy 95% cho sự khác biệt giữa các tỷ lệ xem tivi tại phòng khách, phòng sinh hoạt chung hoặc phòng làm việc của người Mỹ trong nhóm tuổi từ 25 đến 59 và nhóm từ 60 trở lên là từ 0,02 đến 0,18.\n"
   ]
  },
  {
   "cell_type": "code",
   "execution_count": 11,
   "metadata": {},
   "outputs": [
    {
     "name": "stdout",
     "output_type": "stream",
     "text": [
      "Tỉ lệ 25-59: 0.950\n",
      "Margin of Error: 0.015\n",
      "Confidence Interval: (0.005, 0.035)\n"
     ]
    }
   ],
   "source": [
    "import math\n",
    "# Tỉ lệ cho từng nhóm và kích thước mẫu\n",
    "p_25_44 = 0.95\n",
    "p_45_69 = 0.95\n",
    "p_60_plus = 0.93\n",
    "n_25_44 = 2000\n",
    "n_45_69 = 2000\n",
    "n_60_plus = 2000\n",
    "# Tính tỷ lệ cho nhóm 25-59\n",
    "p_25_59 = (p_25_44 + p_45_69) / 2\n",
    "# Z-score cho mức tin cậy 95%\n",
    "z_score = 1.96\n",
    "# Tính Margin of Error\n",
    "margin_of_error = z_score * math.sqrt((p_25_59 * (1 - p_25_59) / n_25_44) + (p_60_plus * (1 - p_60_plus) / n_60_plus))\n",
    "# Ước lượng khoảng tin cậy cho sự khác biệt giữa tỷ lệ hai nhóm\n",
    "confidence_interval_lower = (p_25_59 - p_60_plus) - margin_of_error\n",
    "confidence_interval_upper = (p_25_59 - p_60_plus) + margin_of_error\n",
    "# In kết quả\n",
    "print(f\"Tỉ lệ 25-59: {p_25_59:.3f}\")\n",
    "print(f\"Margin of Error: {margin_of_error:.3f}\")\n",
    "print(f\"Confidence Interval: ({confidence_interval_lower:.3f}, {confidence_interval_upper:.3f})\")\n"
   ]
  },
  {
   "cell_type": "markdown",
   "metadata": {},
   "source": [
    "# Bài 6:"
   ]
  },
  {
   "cell_type": "markdown",
   "metadata": {},
   "source": [
    "Để xác định kích thước mẫu cần thiết cho cuộc điều tra mới, chúng ta có thể sử dụng công thức sau:\n",
    "\n",
    "```\n",
    "n = (Z^2 * p * (1 - p)) / E^2\n",
    "```\n",
    "\n",
    "Trong đó:\n",
    "\n",
    "* n là kích thước mẫu cần thiết\n",
    "* Z là giá trị z-score tương ứng với xác suất mong muốn (đối với 90%, Z ≈ 1.645)\n",
    "* p là Ước lượng tỷ lệ từ cuộc điều tra ban đầu (không có giá trị cụ thể trong trường hợp này, chúng ta có thể sử dụng 0.5, giả định một phân phối đồng đều)\n",
    "* E là biên sai số mong muốn\n",
    "\n",
    "Từ dữ liệu được cung cấp, chúng ta có:\n",
    "\n",
    "* Z ≈ 1.645\n",
    "* E = 0.04\n",
    "\n",
    "Thay thế các giá trị này vào công thức, chúng ta có:\n",
    "\n",
    "```\n",
    "n = (1.645^2 * 0.5 * (1 - 0.5)) / 0.04^2\n",
    "```\n",
    "\n",
    "```\n",
    "n = (2.651 * 0.25) / 0.0016\n",
    "```\n",
    "\n",
    "```\n",
    "n = 422.5625\n",
    "```\n",
    "\n",
    "Vì vậy, kích thước mẫu cần thiết là **xấp xỉ 166 nhà bán buôn**.\n",
    "\n",
    "Cần lưu ý rằng đây chỉ là một ước tính, và kích thước mẫu thực tế cần thiết có thể thay đổi tùy thuộc vào các yếu tố khác, chẳng hạn như tính đồng nhất của quần thể."
   ]
  },
  {
   "cell_type": "code",
   "execution_count": 12,
   "metadata": {},
   "outputs": [
    {
     "name": "stdout",
     "output_type": "stream",
     "text": [
      "Kích thước mẫu cần thiết: 423\n"
     ]
    }
   ],
   "source": [
    "import math\n",
    "def calculate_sample_size(z_score, p, margin_of_error):\n",
    "   \"\"\"Tính kích thước mẫu cần thiết cho một cuộc điều tra.\n",
    "   Args:\n",
    "       z_score (float): Giá trị z-score tương ứng với xác suất mong muốn.\n",
    "       p (float): Ước lượng tỷ lệ từ cuộc điều tra ban đầu.\n",
    "       margin_of_error (float): Biên sai số mong muốn.\n",
    "   Returns:\n",
    "       int: Kích thước mẫu cần thiết.\n",
    "   \"\"\"\n",
    "   n = (z_score**2 * p * (1 - p)) / (margin_of_error**2)\n",
    "   return math.ceil(n)  # Làm tròn lên số nguyên gần nhất\n",
    "# Dữ liệu cho bài toán\n",
    "z_score = 1.645  # Xác suất 90%\n",
    "p = 0.5  # Không có ước lượng tỷ lệ từ cuộc điều tra ban đầu, giả sử phân phối đồng đều\n",
    "margin_of_error = 0.04\n",
    "# Tính toán kích thước mẫu\n",
    "sample_size = calculate_sample_size(z_score, p, margin_of_error)\n",
    "# In kết quả\n",
    "print(\"Kích thước mẫu cần thiết:\", sample_size)"
   ]
  },
  {
   "cell_type": "markdown",
   "metadata": {},
   "source": [
    "# Bài 7:"
   ]
  },
  {
   "cell_type": "markdown",
   "metadata": {},
   "source": [
    "**Tính toán bằng tay**\n",
    "\n",
    "Để ước lượng sự khác biệt về thời gian trung bình để lắp ráp chính xác trong giới hạn 1 phút với xác suất bằng với 0.95, thì biên sai số cần phải nhỏ hơn hoặc bằng 1 phút.\n",
    "\n",
    "Sử dụng công thức tính kích thước mẫu cho một thí nghiệm so sánh hai phương pháp, chúng ta có:\n",
    "\n",
    "```\n",
    "n = (2 * z^2 * σ^2) / (ε^2)\n",
    "```\n",
    "\n",
    "Trong đó:\n",
    "\n",
    "* n là kích thước mẫu cần thiết cho mỗi nhóm\n",
    "* z là giá trị z-score cho mức độ tin cậy 95%, là 1.96\n",
    "* σ là độ lệch chuẩn của quần thể, là 8 phút\n",
    "* ε là biên sai số, là 1 phút\n",
    "\n",
    "Thay các giá trị vào công thức, ta có:\n",
    "\n",
    "```\n",
    "n = (2 * 1.96^2 * 8^2) / (1^2)\n",
    "```\n",
    "\n",
    "```\n",
    "n = 492\n",
    "```\n",
    "\n",
    "Vậy, cần phải đưa **492 công nhân vào mỗi nhóm huấn luyện** để đáp ứng yêu cầu của bài toán.\n",
    "\n"
   ]
  },
  {
   "cell_type": "code",
   "execution_count": 13,
   "metadata": {},
   "outputs": [
    {
     "name": "stdout",
     "output_type": "stream",
     "text": [
      "Kích thước mẫu cần thiết cho mỗi nhóm: 492\n"
     ]
    }
   ],
   "source": [
    "import math\n",
    "import scipy.stats\n",
    "def calculate_sample_size_per_group(population_std_dev, margin_of_error, confidence_level=0.95):\n",
    "  \"\"\"Tính kích thước mẫu cần thiết cho mỗi nhóm trong một thí nghiệm so sánh hai phương pháp.\n",
    "\n",
    "  Args:\n",
    "    population_std_dev (float): Độ lệch chuẩn của quần thể.\n",
    "    margin_of_error (float): Biên sai số mong muốn.\n",
    "    confidence_level (float, optional): Mức độ tin cậy. Defaults to 0.95.\n",
    "\n",
    "  Returns:\n",
    "    int: Kích thước mẫu cần thiết cho mỗi nhóm.\n",
    "  \"\"\"\n",
    "  z_score = scipy.stats.norm.ppf(1 - (1 - confidence_level) / 2)  # Tính z-score từ mức độ tin cậy\n",
    "  n = (2 * z_score**2 * population_std_dev**2) / (margin_of_error**2)\n",
    "  return math.ceil(n)  # Làm tròn lên số nguyên gần nhất\n",
    "# Dữ liệu cho bài toán\n",
    "population_std_dev = 8  # Độ lệch chuẩn của quần thể\n",
    "margin_of_error = 1  # Biên sai số mong muốn\n",
    "# Tính toán kích thước mẫu cần thiết cho mỗi nhóm\n",
    "sample_size_per_group = calculate_sample_size_per_group(population_std_dev, margin_of_error)\n",
    "# In kết quả\n",
    "print(\"Kích thước mẫu cần thiết cho mỗi nhóm:\", sample_size_per_group)\n"
   ]
  },
  {
   "cell_type": "code",
   "execution_count": null,
   "metadata": {},
   "outputs": [],
   "source": []
  }
 ],
 "metadata": {
  "kernelspec": {
   "display_name": "Python 3",
   "language": "python",
   "name": "python3"
  },
  "language_info": {
   "codemirror_mode": {
    "name": "ipython",
    "version": 3
   },
   "file_extension": ".py",
   "mimetype": "text/x-python",
   "name": "python",
   "nbconvert_exporter": "python",
   "pygments_lexer": "ipython3",
   "version": "3.10.11"
  }
 },
 "nbformat": 4,
 "nbformat_minor": 2
}
