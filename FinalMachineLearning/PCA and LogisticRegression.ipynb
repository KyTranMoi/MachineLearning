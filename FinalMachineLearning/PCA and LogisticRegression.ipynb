{
 "cells": [
  {
   "cell_type": "code",
   "execution_count": 1,
   "metadata": {},
   "outputs": [],
   "source": [
    "from sklearn.model_selection import train_test_split\n",
    "from sklearn.metrics import classification_report,confusion_matrix\n",
    "import pandas as pd\n",
    "import matplotlib.pyplot as plt\n",
    "import seaborn as sns\n",
    "from sklearn.decomposition import PCA\n",
    "from sklearn.metrics import accuracy_score,f1_score\n",
    "from sklearn.pipeline import Pipeline\n",
    "from sklearn.linear_model import LogisticRegression\n",
    "\n"
   ]
  },
  {
   "cell_type": "code",
   "execution_count": 2,
   "metadata": {},
   "outputs": [],
   "source": [
    "train_df = pd.read_csv(\"archive/sign_mnist_train/sign_mnist_train.csv\")\n",
    "test_df = pd.read_csv(\"archive/sign_mnist_test/sign_mnist_test.csv\")\n"
   ]
  },
  {
   "cell_type": "code",
   "execution_count": 3,
   "metadata": {},
   "outputs": [],
   "source": [
    "X_train = train_df.drop('label',axis=1)\n",
    "y_train = train_df['label']\n",
    "\n",
    "X_test = test_df.drop('label',axis=1)\n",
    "y_test = test_df['label']"
   ]
  },
  {
   "cell_type": "code",
   "execution_count": 4,
   "metadata": {},
   "outputs": [],
   "source": [
    "X_train = X_train / 255\n",
    "X_test = X_test / 255\n"
   ]
  },
  {
   "cell_type": "code",
   "execution_count": 5,
   "metadata": {},
   "outputs": [
    {
     "data": {
      "text/plain": [
       "((27455, 784), (27455,), (7172, 784), (7172,))"
      ]
     },
     "execution_count": 5,
     "metadata": {},
     "output_type": "execute_result"
    }
   ],
   "source": [
    "X_train.shape, y_train.shape, X_test.shape, y_test.shape"
   ]
  },
  {
   "cell_type": "code",
   "execution_count": 6,
   "metadata": {},
   "outputs": [
    {
     "name": "stdout",
     "output_type": "stream",
     "text": [
      "Number of components: 0.7, Accuracy: 0.437813720022309\n",
      "0.4268031367981838\n",
      "Number of components: 0.8, Accuracy: 0.6222810931399888\n",
      "0.6200976512098003\n",
      "Number of components: 0.9, Accuracy: 0.6839096486335751\n",
      "0.6887936763314467\n",
      "Number of components: 0.75, Accuracy: 0.5061349693251533\n",
      "0.4966399437177903\n",
      "Number of components: 0.85, Accuracy: 0.6530953708867819\n",
      "0.6525970776604814\n",
      "Number of components: 0.95, Accuracy: 0.6871165644171779\n",
      "0.6890542765470709\n"
     ]
    }
   ],
   "source": [
    "list_pca = [0.7, 0.8, 0.9,0.75,0.85,0.95]\n",
    "\n",
    "for i in list_pca:\n",
    "    pca_LogisticRegression_pipeline = Pipeline([\n",
    "        ('pca', PCA(n_components=i)),  \n",
    "        ('LogisticRegression', LogisticRegression(max_iter=1000))\n",
    "    ])\n",
    "    pca_LogisticRegression_pipeline.fit(X_train, y_train)\n",
    "    y_pred = pca_LogisticRegression_pipeline.predict(X_test)\n",
    "    accuracy = accuracy_score(y_test, y_pred)\n",
    "    print(f\"Number of components: {i}, Accuracy: {accuracy}\")\n",
    "    print(f1_score(y_test, y_pred, average='weighted'))"
   ]
  },
  {
   "cell_type": "code",
   "execution_count": null,
   "metadata": {},
   "outputs": [],
   "source": []
  }
 ],
 "metadata": {
  "kernelspec": {
   "display_name": "myenv",
   "language": "python",
   "name": "python3"
  },
  "language_info": {
   "codemirror_mode": {
    "name": "ipython",
    "version": 3
   },
   "file_extension": ".py",
   "mimetype": "text/x-python",
   "name": "python",
   "nbconvert_exporter": "python",
   "pygments_lexer": "ipython3",
   "version": "3.9.13"
  }
 },
 "nbformat": 4,
 "nbformat_minor": 2
}
