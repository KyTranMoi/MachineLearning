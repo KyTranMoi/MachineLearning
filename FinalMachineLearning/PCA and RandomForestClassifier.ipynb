{
 "cells": [
  {
   "cell_type": "code",
   "execution_count": 1,
   "metadata": {},
   "outputs": [],
   "source": [
    "from sklearn.model_selection import train_test_split\n",
    "from sklearn.metrics import classification_report,confusion_matrix\n",
    "import pandas as pd\n",
    "from sklearn.ensemble import RandomForestClassifier\n",
    "import matplotlib.pyplot as plt\n",
    "import seaborn as sns\n",
    "from sklearn.decomposition import PCA\n",
    "from sklearn.metrics import accuracy_score,f1_score\n",
    "from sklearn.pipeline import Pipeline\n",
    "\n"
   ]
  },
  {
   "cell_type": "code",
   "execution_count": 2,
   "metadata": {},
   "outputs": [],
   "source": [
    "train_df = pd.read_csv(\"archive/sign_mnist_train/sign_mnist_train.csv\")\n",
    "test_df = pd.read_csv(\"archive/sign_mnist_test/sign_mnist_test.csv\")\n"
   ]
  },
  {
   "cell_type": "code",
   "execution_count": 3,
   "metadata": {},
   "outputs": [],
   "source": [
    "X_train = train_df.drop('label',axis=1)\n",
    "y_train = train_df['label']\n",
    "\n",
    "X_test = test_df.drop('label',axis=1)\n",
    "y_test = test_df['label']"
   ]
  },
  {
   "cell_type": "code",
   "execution_count": 4,
   "metadata": {},
   "outputs": [],
   "source": [
    "X_train = X_train / 255\n",
    "X_test = X_test / 255\n"
   ]
  },
  {
   "cell_type": "code",
   "execution_count": 5,
   "metadata": {},
   "outputs": [
    {
     "data": {
      "text/plain": [
       "((27455, 784), (27455,), (7172, 784), (7172,))"
      ]
     },
     "execution_count": 5,
     "metadata": {},
     "output_type": "execute_result"
    }
   ],
   "source": [
    "X_train.shape, y_train.shape, X_test.shape, y_test.shape"
   ]
  },
  {
   "cell_type": "code",
   "execution_count": 6,
   "metadata": {},
   "outputs": [
    {
     "name": "stdout",
     "output_type": "stream",
     "text": [
      "Number of components: 0.7, Accuracy: 0.6892080312325711\n",
      "0.6891968187302645\n",
      "Number of components: 0.8, Accuracy: 0.7893195761293921\n",
      "0.7897059801122586\n",
      "Number of components: 0.9, Accuracy: 0.8269659788064696\n",
      "0.8275762355326836\n",
      "Number of components: 0.75, Accuracy: 0.7541829336307864\n",
      "0.7534223694530336\n",
      "Number of components: 0.85, Accuracy: 0.8116285554935861\n",
      "0.812339204629637\n",
      "Number of components: 0.95, Accuracy: 0.8237590630228667\n",
      "0.8285259134806007\n"
     ]
    }
   ],
   "source": [
    "list_pca = [0.7, 0.8, 0.9,0.75,0.85,0.95]\n",
    "\n",
    "for i in list_pca:\n",
    "    pca_RandomForestClassifier_pipeline = Pipeline([\n",
    "        ('pca', PCA(n_components=i)),  \n",
    "        ('RandomForestClassifier', RandomForestClassifier(n_estimators=1000,random_state=42))\n",
    "    ])\n",
    "    pca_RandomForestClassifier_pipeline.fit(X_train, y_train)\n",
    "    y_pred = pca_RandomForestClassifier_pipeline.predict(X_test)\n",
    "    accuracy = accuracy_score(y_test, y_pred)\n",
    "    print(f\"Number of components: {i}, Accuracy: {accuracy}\")\n",
    "    print(f1_score(y_test, y_pred, average='weighted'))"
   ]
  },
  {
   "cell_type": "code",
   "execution_count": null,
   "metadata": {},
   "outputs": [],
   "source": []
  }
 ],
 "metadata": {
  "kernelspec": {
   "display_name": "myenv",
   "language": "python",
   "name": "python3"
  },
  "language_info": {
   "codemirror_mode": {
    "name": "ipython",
    "version": 3
   },
   "file_extension": ".py",
   "mimetype": "text/x-python",
   "name": "python",
   "nbconvert_exporter": "python",
   "pygments_lexer": "ipython3",
   "version": "3.9.13"
  }
 },
 "nbformat": 4,
 "nbformat_minor": 2
}
