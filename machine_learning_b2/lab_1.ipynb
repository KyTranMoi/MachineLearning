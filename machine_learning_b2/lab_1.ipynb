{
 "cells": [
  {
   "cell_type": "code",
   "execution_count": 1,
   "metadata": {},
   "outputs": [
    {
     "name": "stdout",
     "output_type": "stream",
     "text": [
      "Lỗi: Chia cho số 0 không được.\n"
     ]
    }
   ],
   "source": [
    "def divide_by_zero():\n",
    "    try:\n",
    "        result = 5 / 0\n",
    "        print(\"Kết quả: \", result)\n",
    "    except ZeroDivisionError:\n",
    "        print(\"Lỗi: Chia cho số 0 không được.\")\n",
    "\n",
    "divide_by_zero()"
   ]
  },
  {
   "cell_type": "code",
   "execution_count": 4,
   "metadata": {},
   "outputs": [
    {
     "name": "stdout",
     "output_type": "stream",
     "text": [
      "Lỗi: Chia cho số 0 không được.\n"
     ]
    }
   ],
   "source": [
    "from EX import divide_numbers\n",
    "divide_numbers(5, 0)"
   ]
  },
  {
   "cell_type": "code",
   "execution_count": 5,
   "metadata": {},
   "outputs": [
    {
     "name": "stdout",
     "output_type": "stream",
     "text": [
      "Kết quả:  2.5\n"
     ]
    }
   ],
   "source": [
    "divide_numbers(5, 2)"
   ]
  },
  {
   "cell_type": "code",
   "execution_count": 6,
   "metadata": {},
   "outputs": [
    {
     "name": "stdout",
     "output_type": "stream",
     "text": [
      "Lỗi: Chia cho số 0 không được.\n"
     ]
    }
   ],
   "source": [
    "divide_numbers(10, 0)"
   ]
  },
  {
   "cell_type": "code",
   "execution_count": null,
   "metadata": {},
   "outputs": [],
   "source": []
  }
 ],
 "metadata": {
  "kernelspec": {
   "display_name": "Python 3",
   "language": "python",
   "name": "python3"
  },
  "language_info": {
   "codemirror_mode": {
    "name": "ipython",
    "version": 3
   },
   "file_extension": ".py",
   "mimetype": "text/x-python",
   "name": "python",
   "nbconvert_exporter": "python",
   "pygments_lexer": "ipython3",
   "version": "3.10.11"
  }
 },
 "nbformat": 4,
 "nbformat_minor": 2
}
